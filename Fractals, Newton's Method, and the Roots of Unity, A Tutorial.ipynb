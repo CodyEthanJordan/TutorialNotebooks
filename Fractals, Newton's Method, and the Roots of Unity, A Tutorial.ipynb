{
 "cells": [
  {
   "cell_type": "markdown",
   "metadata": {},
   "source": [
    "# Fractals, Newton's Method, and the Roots of Unity\n",
    "\n",
    "This is a tutorial giving an interactive introduction to the Newton-Rhapson method for solving equations, where we are going to be producing some cool pictures as seen below. You can download this file from [this GitHub repository](https://github.com/CodyEthanJordan/TutorialNotebooks/blob/master/Fractals%2C%20Newton's%20Method%2C%20and%20the%20Roots%20of%20Unity%2C%20A%20Tutorial.ipynb) and run the code yourself, or if you don't have Jupyter notebooks installed on your machine [you can try this interactive version online](https://mybinder.org/v2/gh/CodyEthanJordan/TutorialNotebooks/master?filepath=Fractals%2C%20Newton's%20Method%2C%20and%20the%20Roots%20of%20Unity%2C%20A%20Tutorial.ipynb)\n",
    "\n",
    "![Z^3 -1 = 0 basins of attraction](fractal.png)\n",
    "\n",
    "#### What you should know\n",
    "\n",
    "- Basic familiarity with Python. For more on that I'd reccomend [Think Python 2e](http://greenteapress.com/wp/think-python-2e/)\n",
    "- Working knowledge of complex numbers. [Paul's Notes](http://tutorial.math.lamar.edu/Extras/ComplexPrimer/ComplexNumbers.aspx) is a great resouce for math subjects, in particular polar and exponential form is good to know\n",
    "\n",
    "\n",
    "#### What we will cover\n",
    "\n",
    "- Introduction to numerical methods, in particular the [Newton-Rhapson method](http://mathworld.wolfram.com/NewtonsMethod.html)\n",
    "- How to use Python to make fractals from the basins of attraction from $z^3-1=0$ and other roots of unity\n",
    "- Moving this code to the GPU by making a shader, see this [shadertoy implementation](https://www.shadertoy.com/view/WdV3R1)"
   ]
  },
  {
   "cell_type": "code",
   "execution_count": 2,
   "metadata": {},
   "outputs": [],
   "source": [
    "%matplotlib inline\n",
    "\n",
    "import numpy as np\n",
    "import matplotlib.pyplot as plt"
   ]
  },
  {
   "cell_type": "markdown",
   "metadata": {},
   "source": [
    "## Root Finding with Newton\n",
    "\n",
    "Newton's method is a way to approximate the solution to an equation $f(x)=0$. In our case we are going to use this method to create fun shapes, but the method is equally viable for finding the answers to real equations.\n",
    "\n",
    "The main advantages of Newton's method are\n",
    "- as a numerical technique it doesn't require any understanding of exactly what $f$ is\n",
    "- it is easy to explain\n",
    "\n",
    "along with this come sown downsides\n",
    "- as an approximation technique it will only get you close (probably very close) to the analytical answer\n",
    "- there are much better methods (see: [the rest of numerical methods](https://en.wikipedia.org/wiki/Numerical_analysis))\n",
    "\n",
    "If you want more background on Newton's method itself there are [numerous](https://tutorial.math.lamar.edu/classes/calci/newtonsmethod.aspx) [good](https://amsi.org.au/ESA_Senior_Years/SeniorTopic3/3j/3j_2content_2.html) [ones](http://numerical.recipes/)."
   ]
  },
  {
   "cell_type": "code",
   "execution_count": 3,
   "metadata": {},
   "outputs": [
    {
     "data": {
      "text/plain": [
       "Text(0.5,1,'$y = x^2 - 4$')"
      ]
     },
     "execution_count": 3,
     "metadata": {},
     "output_type": "execute_result"
    },
    {
     "data": {
      "image/png": "[encoded data removed]",
      "text/plain": [
       "<Figure size 432x288 with 1 Axes>"
      ]
     },
     "metadata": {
      "needs_background": "light"
     },
     "output_type": "display_data"
    }
   ],
   "source": [
    "parabola = lambda x : x**2 - 4\n",
    "parabolaSlope = lambda x : 2*x # this is the derivative of our function \n",
    "domain = np.linspace(-4,4)\n",
    "plt.plot(domain, parabola(domain))\n",
    "plt.axhline(0, color='black')\n",
    "plt.title('$y = x^2 - 4$')"
   ]
  },
  {
   "cell_type": "markdown",
   "metadata": {},
   "source": [
    "As a quick visual demonstration take a quadratic equation, something we already know what the answers should be so that it is easy to check that Newton's method is working as intended. In this case $f(x) = x^2 - 4 = 0$ has solutions $f(2)=0$, $f(-2)=0$.\n",
    "\n",
    "Newton's method operates by taking an initial guess, and checking to see if this is close enough to 0. The \"tolerance\" variable controls how close to 0 you'll be satisfied with, make this smaller and you'll get a more accurate result, but in general more accuracy in numerical methods means a longer runtime.\n",
    "\n",
    "In order to get to the next guess Newton's method uses the derivative of the function to effectively go downhill towards 0. \n",
    "\n",
    ">Note that the canny observer will recognize the disconnect between the earlier notion that we \"don't need to know anything about f\" in order to use numerical methods, yet here we assume that we have the derivative of f. This is not always an unreasonable assumption, but failing that you can then use [more numerical methods](https://en.wikipedia.org/wiki/Numerical_differentiation) to then in turn estimate $f'$ for use in estimating $f(x) = 0$"
   ]
  },
  {
   "cell_type": "code",
   "execution_count": 12,
   "metadata": {},
   "outputs": [
    {
     "name": "stdout",
     "output_type": "stream",
     "text": [
      "More work to do\n"
     ]
    }
   ],
   "source": [
    "# pretend we are Newton-Rhapson\n",
    "initialGuess = 4\n",
    "tolerance = 0.1 # how close to 0 is good enough\n",
    "if abs(parabola(initialGuess)) <= tolerance:\n",
    "    print(\"We did it! Function has a 0 at \" + str(initialGuess))\n",
    "else:\n",
    "    print(\"More work to do\")"
   ]
  },
  {
   "cell_type": "code",
   "execution_count": 13,
   "metadata": {},
   "outputs": [
    {
     "name": "stdout",
     "output_type": "stream",
     "text": [
      "2.5\n"
     ]
    }
   ],
   "source": [
    "offsetToNextGuess = -parabola(initialGuess) / parabolaSlope(initialGuess)\n",
    "newGuess = initialGuess + offsetToNextGuess\n",
    "print(newGuess)"
   ]
  },
  {
   "cell_type": "code",
   "execution_count": 8,
   "metadata": {},
   "outputs": [
    {
     "data": {
      "text/plain": [
       "[<matplotlib.lines.Line2D at 0x16f7d64cb38>]"
      ]
     },
     "execution_count": 8,
     "metadata": {},
     "output_type": "execute_result"
    },
    {
     "data": {
      "image/png": "[encoded data removed]",
      "text/plain": [
       "<Figure size 432x288 with 1 Axes>"
      ]
     },
     "metadata": {
      "needs_background": "light"
     },
     "output_type": "display_data"
    }
   ],
   "source": [
    "plt.plot(domain, parabola(domain), '-')\n",
    "plt.plot([initialGuess, newGuess], [parabola(initialGuess), parabola(newGuess)], '--bo')"
   ]
  },
  {
   "cell_type": "markdown",
   "metadata": {},
   "source": [
    "This represents a single step of Newton's method. Next we take our new guess and run the same procedure again, iterating until we are close enough to 0 that we claim victory and call it a day. Or at least until the program has run long enough and we have it bail out after taking too many iterations."
   ]
  },
  {
   "cell_type": "code",
   "execution_count": 15,
   "metadata": {},
   "outputs": [
    {
     "name": "stdout",
     "output_type": "stream",
     "text": [
      "Trying out: 2.000609756097561\n",
      "Answer is:2.000609756097561\n"
     ]
    }
   ],
   "source": [
    "distanceFromZero = parabola(newGuess)\n",
    "while distanceFromZero > tolerance: # keep going until we find a good solution\n",
    "    offsetToNextGuess = -parabola(newGuess) / parabolaSlope(newGuess)\n",
    "    newGuess = newGuess + offsetToNextGuess\n",
    "    distanceFromZero = parabola(newGuess)\n",
    "    print(\"Trying out: \" + str(newGuess))\n",
    "\n",
    "print(\"Answer is:\" + str(newGuess))"
   ]
  },
  {
   "cell_type": "markdown",
   "metadata": {},
   "source": [
    "Something important to note here, in our example the parabola had 2 roots ($-2$ and $2$), but Newton's method only gave us one. This is a limitation of Newton's method, although one which we will exploit later. Try to change the initial guess and see which (if any) root Newton's method is able to find.\n",
    "\n",
    "If you consider all of the start points which will eventually lead to $2$ this is called a [basin of attraction](http://www.acme.byu.edu/wp-content/uploads/2017/01/Vol1B-NewtonsMethod-2017.pdf). This is what makes the fractal pattern which we are building towards, we just color each basin a different color and see that even such a simple equation will produce intricate patterns. But first, its time for complex numbers."
   ]
  },
  {
   "cell_type": "markdown",
   "metadata": {},
   "source": [
    "# Roots of Unity and Generalizing Newton to Complex Numbers\n",
    "\n",
    "The roots of unity are solutions to equations such as $z^n = 1$. When you look at these in the complex plane they are points evenly spaced around the unit circle. Specifically we're going to look at $z^3 = 1$ which has solutions $z = e^0, e^{i \\frac{1}{3} 2\\pi}, e^{i \\frac{2}{3} 2\\pi}$ \n",
    "\n",
    "If we want to use Newton's method to solve this we need to have a form which works with complex numbers. This section is a bit more advanced so feel free to just skip to the answer at the end. Or if you'd rather even more detail check out [The Newton and Halley Methods for Complex Roots](https://www.jstor.org/stable/2589209?seq=1#page_scan_tab_contents).\n",
    "\n",
    "In order to find the basins of attraction for $z^3 - 1 = 0$ we have to generalize Newton's method to work with complex numbers. One way to do this is to treat our complex numbers as a pair of real numbers $z = x + i y, x, y \\in \\mathbb R$, and look at our function this way as well $f(z) = g(x,y) + i h(x,y)$. We will also need to keep in mind [the Cauchy-Riemann eqquations](http://mathworld.wolfram.com/Cauchy-RiemannEquations.html) which state\n",
    "\n",
    "$$ \\frac{\\partial g}{\\partial x} = \\frac{\\partial h}{\\partial y},  \\frac{\\partial h}{\\partial x} = -\\frac{\\partial g}{\\partial y}$$\n",
    "\n",
    "\n"
   ]
  },
  {
   "cell_type": "code",
   "execution_count": 16,
   "metadata": {},
   "outputs": [],
   "source": [
    "g = lambda x, y: x**3 - 3*x*y**2 - 1\n",
    "h = lambda x, y: 3*x**2 * y - y**3\n",
    "gx = lambda x, y: 3*x**2 - 3*y**2\n",
    "gy = lambda x, y: -6*x*y\n",
    "hx = lambda x, y: 6*x*y\n",
    "hy = lambda x, y: 3*x**2 - 3*y**2\n",
    "\n",
    "# render a PIXELS x PIXELS grid in the defined square\n",
    "PIXELS = 400\n",
    "minX = -1\n",
    "maxX = 1\n",
    "minY = -1\n",
    "maxY = 1\n",
    "points = np.array(np.meshgrid(np.linspace(minX, maxX, PIXELS),\n",
    "    np.linspace(minY, maxY, PIXELS)))\n",
    "colors = np.zeros((PIXELS, PIXELS))"
   ]
  },
  {
   "cell_type": "code",
   "execution_count": 17,
   "metadata": {},
   "outputs": [],
   "source": [
    "def newtonIteration(point, g, h, gx, gy, hx, hy):\n",
    "    x = point[0]\n",
    "    y = point[1]\n",
    "    nextX = x - (g(x,y)*hy(x,y) - h(x,y)*gy(x,y)) / (gx(x,y)*hy(x,y) - gy(x,y)*hx(x,y))\n",
    "    nextY = y - (h(x,y)*gx(x,y) - g(x,y)*hx(x,y)) / (gx(x,y)*hy(x,y) - gy(x,y)*hx(x,y))\n",
    "    return (nextX, nextY)\n",
    "\n",
    "def delta(i, j):\n",
    "    return (i[0] - j[0])**2 + (i[1]-j[1])**2\n",
    "\n",
    "def complexNewton(initial, epsilon, maxIterations, g, h, gx, gy, hx, hy):\n",
    "    current = initial\n",
    "    prev = (np.inf, np.inf)\n",
    "    iterations = 0\n",
    "    while delta(prev, current) > epsilon:\n",
    "        prev = current\n",
    "        current = newtonIteration(current, g, h, gx, gy, hx, hy)\n",
    "        iterations = iterations + 1\n",
    "        if iterations > maxIterations:\n",
    "            return (np.nan, np.nan)\n",
    "    return current"
   ]
  },
  {
   "cell_type": "markdown",
   "metadata": {},
   "source": [
    "Here is where the magic happens. \n",
    "\n",
    "For each pixel in our image we treat the coordinates of that pixel $(x,y)$ as an initial guess for where our equation is 0. $f(x+iy) = (x+iy)^3 - 1$. All of these guesses are wildly wrong, only 3 points on the entire plane will actually be where this equation is 0.\n",
    "\n",
    "Next however Newton's method sets about using that initial guess to find a place where the equation is 0, then based on which of these 3 points the method ends up at, that is used to create a unique color for the initial point."
   ]
  },
  {
   "cell_type": "code",
   "execution_count": 8,
   "metadata": {
    "collapsed": true
   },
   "outputs": [],
   "source": [
    "for x in range(PIXELS):\n",
    "    for y in range(PIXELS):\n",
    "        zeroFound = complexNewton(points[:, x, y], 0.0001, 10, g, h, gx, gy, hx, hy)\n",
    "        colors[x,y] = np.sum(zeroFound)    "
   ]
  },
  {
   "cell_type": "code",
   "execution_count": 9,
   "metadata": {},
   "outputs": [
    {
     "data": {
      "text/plain": [
       "<matplotlib.image.AxesImage at 0x7fbc3145bda0>"
      ]
     },
     "execution_count": 9,
     "metadata": {},
     "output_type": "execute_result"
    },
    {
     "data": {
      "image/png": "[encoded data removed]",
      "text/plain": [
       "<matplotlib.figure.Figure at 0x7fbc31484d30>"
      ]
     },
     "metadata": {},
     "output_type": "display_data"
    }
   ],
   "source": [
    "plt.imshow(colors)\n"
   ]
  },
  {
   "cell_type": "markdown",
   "metadata": {
    "collapsed": true
   },
   "source": [
    "And here is the image that produces. The trilateral symmetry is a good indicator that our program is working, as each of the 3 roots are more or less as good as the others. What I'd reccomend next is to go back through the code and alter a few things.\n",
    "\n",
    "- Change the minimum and maximum X and Y values to \"zoom in\" or out on various areas to see how the complexity changes\n",
    "- Try using z^4-1 = 0 as the base equation\n",
    "- The white areas represent locations where Newton's method failed, probably due to numerical instability. What are some factors which could cause that?\n",
    "\n",
    "From here you can take this a few ways. One is to focus on speeding this up with the GPU. Our method is running a calculation for each pixel in a target image, something which is the perfect description of a [fragment shader](https://www.shadertoy.com/view/WdV3R1).\n",
    "\n",
    "The other is to begin investigating numerical methods on their own merits as a means to solve equations.\n",
    "\n",
    "Or if you like cool fractals you can investigate other equations to use, check out the king of fractals [Inigo Quilez](https://www.iquilezles.org/index.html)\n",
    "\n",
    "### Questions to consider\n",
    "\n",
    "- Would a different language or implementation get better results?\n",
    "- Many values get recomputed, are there reasonable ways to re-used previous calculations?\n",
    "- How is the resulting image affected by floating point errors?"
   ]
  },
  {
   "cell_type": "code",
   "execution_count": null,
   "metadata": {},
   "outputs": [],
   "source": []
  }
 ],
 "metadata": {
  "kernelspec": {
   "display_name": "Python 3",
   "language": "python",
   "name": "python3"
  },
  "language_info": {
   "codemirror_mode": {
    "name": "ipython",
    "version": 3
   },
   "file_extension": ".py",
   "mimetype": "text/x-python",
   "name": "python",
   "nbconvert_exporter": "python",
   "pygments_lexer": "ipython3",
   "version": "3.7.0"
  }
 },
 "nbformat": 4,
 "nbformat_minor": 2
}
