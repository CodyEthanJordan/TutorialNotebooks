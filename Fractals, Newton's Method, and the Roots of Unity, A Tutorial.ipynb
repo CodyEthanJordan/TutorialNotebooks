{
 "cells": [
  {
   "cell_type": "markdown",
   "metadata": {},
   "source": [
    "# Fractals, Newton's Method, and the Roots of Unity\n",
    "\n",
    "This is a tutorial giving an interactive introduction to the Newton-Rhapson method for solving equations, where we are going to be producing some cool pictures as seen below. You can download this file from [this GitHub repository]()\n",
    "\n",
    "![Z^3 -1 = 0 basins of attraction](fractal.png)\n",
    "\n",
    "Let's build a program which uses the Newton-Rhapson method to find the basins of attraction for the $z^3-1=0$ function in the complex plane. This ends up producing a fractal like the one above, but you can modify it to produce all manner of fractals. Here's how:\n",
    "\n",
    "1. Brief explaination of complex numbers and \"roots of unity\"\n",
    "2. Introduction to Newton-Rhapson root finding method\n",
    "3. Create functions for our particular case, $z^3-1=0$\n",
    "4. Implement the code\n",
    "5. Render the image\n",
    "\n"
   ]
  },
  {
   "cell_type": "markdown",
   "metadata": {},
   "source": [
    "# Roots of Unity\n",
    "\n",
    "Look at $z^2 = 1$, what \n"
   ]
  },
  {
   "cell_type": "code",
   "execution_count": 1,
   "metadata": {},
   "outputs": [],
   "source": [
    "%matplotlib inline\n",
    "\n",
    "import numpy as np\n",
    "import matplotlib.pyplot as plt"
   ]
  },
  {
   "cell_type": "code",
   "execution_count": 2,
   "metadata": {},
   "outputs": [],
   "source": [
    "g = lambda x, y: x**3 - 3*x*y**2 - 1\n",
    "h = lambda x, y: 3*x**2 * y - y**3\n",
    "gx = lambda x, y: 3*x**2 - 3*y**2\n",
    "gy = lambda x, y: -6*x*y\n",
    "hx = lambda x, y: 6*x*y\n",
    "hy = lambda x, y: 3*x**2 - 3*y**2\n",
    "\n",
    "# render a PIXELS x PIXELS grid in the defined square\n",
    "PIXELS = 400\n",
    "minX = -1\n",
    "maxX = 1\n",
    "minY = -1\n",
    "maxY = 1\n",
    "points = np.array(np.meshgrid(np.linspace(minX, maxX, PIXELS),\n",
    "    np.linspace(minY, maxY, PIXELS)))\n",
    "colors = np.zeros((PIXELS, PIXELS))"
   ]
  },
  {
   "cell_type": "code",
   "execution_count": 3,
   "metadata": {},
   "outputs": [],
   "source": [
    "def newtonIteration(point, g, h, gx, gy, hx, hy):\n",
    "    x = point[0]\n",
    "    y = point[1]\n",
    "    nextX = x - (g(x,y)*hy(x,y) - h(x,y)*gy(x,y)) / (gx(x,y)*hy(x,y) - gy(x,y)*hx(x,y))\n",
    "    nextY = y - (h(x,y)*gx(x,y) - g(x,y)*hx(x,y)) / (gx(x,y)*hy(x,y) - gy(x,y)*hx(x,y))\n",
    "    return (nextX, nextY)\n",
    "\n",
    "def delta(i, j):\n",
    "    return (i[0] - j[0])**2 + (i[1]-j[1])**2\n",
    "\n",
    "def complexNewton(initial, epsilon, maxIterations, g, h, gx, gy, hx, hy):\n",
    "    current = initial\n",
    "    prev = (np.inf, np.inf)\n",
    "    iterations = 0\n",
    "    while delta(prev, current) > epsilon:\n",
    "        prev = current\n",
    "        current = newtonIteration(current, g, h, gx, gy, hx, hy)\n",
    "        iterations = iterations + 1\n",
    "        if iterations > maxIterations:\n",
    "            return (np.nan, np.nan)\n",
    "    return current"
   ]
  },
  {
   "cell_type": "code",
   "execution_count": 4,
   "metadata": {},
   "outputs": [],
   "source": [
    "for x in range(PIXELS):\n",
    "    for y in range(PIXELS):\n",
    "        zeroFound = complexNewton(points[:, x, y], 0.0001, 10, g, h, gx, gy, hx, hy)\n",
    "        colors[x,y] = np.sum(zeroFound)    "
   ]
  },
  {
   "cell_type": "code",
   "execution_count": 5,
   "metadata": {},
   "outputs": [
    {
     "data": {
      "text/plain": [
       "<matplotlib.image.AxesImage at 0x236855565c0>"
      ]
     },
     "execution_count": 5,
     "metadata": {},
     "output_type": "execute_result"
    },
    {
     "data": {
      "image/png": "[encoded data removed]",
      "text/plain": [
       "<matplotlib.figure.Figure at 0x23684f0aac8>"
      ]
     },
     "metadata": {},
     "output_type": "display_data"
    }
   ],
   "source": [
    "plt.imshow(colors)\n"
   ]
  },
  {
   "cell_type": "markdown",
   "metadata": {
    "collapsed": true
   },
   "source": [
    "### Future Considerations\n",
    "\n",
    "- How can this algorithm be improved by being parallel, very slow\n",
    "- Different language? overhead?\n",
    "- Recompute lots of values, can store calculations\n",
    "- Floating point errors"
   ]
  },
  {
   "cell_type": "code",
   "execution_count": null,
   "metadata": {},
   "outputs": [],
   "source": []
  }
 ],
 "metadata": {
  "kernelspec": {
   "display_name": "Python 3",
   "language": "python",
   "name": "python3"
  },
  "language_info": {
   "codemirror_mode": {
    "name": "ipython",
    "version": 3
   },
   "file_extension": ".py",
   "mimetype": "text/x-python",
   "name": "python",
   "nbconvert_exporter": "python",
   "pygments_lexer": "ipython3",
   "version": "3.6.3"
  }
 },
 "nbformat": 4,
 "nbformat_minor": 2
}
