{
 "cells": [
  {
   "cell_type": "markdown",
   "metadata": {},
   "source": [
    "# Fractals, Newton's Method, and the Roots of Unity\n",
    "\n",
    "This is a tutorial giving an interactive introduction to the Newton-Rhapson method for solving equations, where we are going to be producing some cool pictures as seen below. You can download this file from [this GitHub repository](https://github.com/CodyEthanJordan/TutorialNotebooks/blob/master/Fractals%2C%20Newton's%20Method%2C%20and%20the%20Roots%20of%20Unity%2C%20A%20Tutorial.ipynb) and run the code yourself, or if you don't have Jupyter notebooks installed on your machine [you can try this interactive version online](https://mybinder.org/v2/gh/CodyEthanJordan/TutorialNotebooks/master?filepath=Fractals%2C%20Newton's%20Method%2C%20and%20the%20Roots%20of%20Unity%2C%20A%20Tutorial.ipynb)\n",
    "\n",
    "![Z^3 -1 = 0 basins of attraction](fractal.png)\n",
    "\n",
    "#### What you should know\n",
    "\n",
    "- Basic familiarity with Python. For more on that I'd reccomend [Think Python 2e](http://greenteapress.com/wp/think-python-2e/)\n",
    "- Working knowledge of complex numbers. [Paul's Notes](http://tutorial.math.lamar.edu/Extras/ComplexPrimer/ComplexNumbers.aspx) is a great resouce for math subjects, in particular polar and exponential form is good to know\n",
    "\n",
    "\n",
    "#### What we will cover\n",
    "\n",
    "- Introduction to numerical methods, in particular the [Newton-Rhapson method](http://mathworld.wolfram.com/NewtonsMethod.html)\n",
    "- How to use Python to make fractals from the basins of attraction from $z^3-1=0$ and other roots of unity"
   ]
  },
  {
   "cell_type": "code",
   "execution_count": 11,
   "metadata": {},
   "outputs": [],
   "source": [
    "%matplotlib inline\n",
    "\n",
    "import numpy as np\n",
    "import matplotlib.pyplot as plt"
   ]
  },
  {
   "cell_type": "markdown",
   "metadata": {},
   "source": [
    "## Root Finding with Newton\n",
    "\n",
    "why root finding\n",
    "Make parabola"
   ]
  },
  {
   "cell_type": "code",
   "execution_count": 12,
   "metadata": {},
   "outputs": [
    {
     "data": {
      "text/plain": [
       "Text(0.5,1,'$y = x^2 - 4$')"
      ]
     },
     "execution_count": 12,
     "metadata": {},
     "output_type": "execute_result"
    },
    {
     "data": {
      "image/png": "[encoded data removed]",
      "text/plain": [
       "<matplotlib.figure.Figure at 0x1c1f6582240>"
      ]
     },
     "metadata": {},
     "output_type": "display_data"
    }
   ],
   "source": [
    "parabola = lambda x : x**2 - 4\n",
    "parabolaSlope = lambda x : 2*x # this is the derivative of our function \n",
    "domain = np.linspace(-4,4)\n",
    "plt.plot(domain, parabola(domain))\n",
    "plt.axhline(0, color='black')\n",
    "plt.title('$y = x^2 - 4$')"
   ]
  },
  {
   "cell_type": "markdown",
   "metadata": {},
   "source": [
    "Roots obviously at -2, 2\n",
    "\n",
    "Explain motivation\n",
    "\n",
    "Explain neton's method"
   ]
  },
  {
   "cell_type": "code",
   "execution_count": 13,
   "metadata": {},
   "outputs": [
    {
     "name": "stdout",
     "output_type": "stream",
     "text": [
      "More work to do\n"
     ]
    }
   ],
   "source": [
    "# pretend we are Newton-Rhapson\n",
    "initialGuess = 4\n",
    "tolerance = 0.1 # how close to 0 is good enough\n",
    "if abs(parabola(initialGuess)) <= tolerance:\n",
    "    print(\"We did it! Function has a 0 at \" + str(initialGuess))\n",
    "else:\n",
    "    print(\"More work to do\")"
   ]
  },
  {
   "cell_type": "code",
   "execution_count": 14,
   "metadata": {},
   "outputs": [
    {
     "name": "stdout",
     "output_type": "stream",
     "text": [
      "2.5\n"
     ]
    }
   ],
   "source": [
    "offsetToNextGuess = -parabola(initialGuess) / parabolaSlope(initialGuess)\n",
    "newGuess = initialGuess + offsetToNextGuess\n",
    "print(newGuess)"
   ]
  },
  {
   "cell_type": "code",
   "execution_count": 20,
   "metadata": {},
   "outputs": [
    {
     "data": {
      "text/plain": [
       "[<matplotlib.lines.Line2D at 0x1c1f6a98588>]"
      ]
     },
     "execution_count": 20,
     "metadata": {},
     "output_type": "execute_result"
    },
    {
     "data": {
      "image/png": "[encoded data removed]",
      "text/plain": [
       "<matplotlib.figure.Figure at 0x1c1f6a98470>"
      ]
     },
     "metadata": {},
     "output_type": "display_data"
    }
   ],
   "source": [
    "plt.plot(domain, parabola(domain), '-')\n",
    "plt.plot([initialGuess, newGuess], [parabola(initialGuess), parabola(newGuess)], '--bo')"
   ]
  },
  {
   "cell_type": "markdown",
   "metadata": {},
   "source": [
    "iterations required slider, maybe slider for which root is found, explain basins of attraction"
   ]
  },
  {
   "cell_type": "markdown",
   "metadata": {},
   "source": [
    "# Roots of Unity and Generalizing Newton to Complex Numbers\n",
    "\n",
    "The roots of unity are solutions to equations such as $z^n = 1$. When you look at these in the complex plane they are points evenly spaced around the unit circle. Specifically we're going to look at $z^3 = 1$ which has solutions $z = e^0, e^{i \\frac{1}{3} 2\\pi}, e^{i \\frac{2}{3} 2\\pi}$ \n",
    "\n",
    "If we want to use Newton's method to solve this we need to have a form which works with complex numbers. This section is a bit more advanced so feel free to just skip to the answer at the end. Or if you'd rather even more detail check out [The Newton and Halley Methods for Complex Roots](https://www.jstor.org/stable/2589209?seq=1#page_scan_tab_contents).\n",
    "\n",
    "In order to find the basins of attraction for $z^3 - 1 = 0$ we have to generalize Newton's method to work with complex numbers. One way to do this is to treat our complex numbers as a pair of real numbers $z = x + i y, x, y \\in \\mathbb R$, and look at our function this way as well $f(z) = g(x,y) + i h(x,y)$. We will also need to keep in mind [the Cauchy-Riemann eqquations](http://mathworld.wolfram.com/Cauchy-RiemannEquations.html) which state\n",
    "\n",
    "$$ \\frac{\\partial g}{\\partial x} = \\frac{\\partial h}{\\partial y},  \\frac{\\partial h}{\\partial x} = -\\frac{\\partial g}{\\partial y}$$\n",
    "\n",
    "\n"
   ]
  },
  {
   "cell_type": "code",
   "execution_count": 16,
   "metadata": {},
   "outputs": [],
   "source": [
    "g = lambda x, y: x**3 - 3*x*y**2 - 1\n",
    "h = lambda x, y: 3*x**2 * y - y**3\n",
    "gx = lambda x, y: 3*x**2 - 3*y**2\n",
    "gy = lambda x, y: -6*x*y\n",
    "hx = lambda x, y: 6*x*y\n",
    "hy = lambda x, y: 3*x**2 - 3*y**2\n",
    "\n",
    "# render a PIXELS x PIXELS grid in the defined square\n",
    "PIXELS = 400\n",
    "minX = -1\n",
    "maxX = 1\n",
    "minY = -1\n",
    "maxY = 1\n",
    "points = np.array(np.meshgrid(np.linspace(minX, maxX, PIXELS),\n",
    "    np.linspace(minY, maxY, PIXELS)))\n",
    "colors = np.zeros((PIXELS, PIXELS))"
   ]
  },
  {
   "cell_type": "code",
   "execution_count": 17,
   "metadata": {},
   "outputs": [],
   "source": [
    "def newtonIteration(point, g, h, gx, gy, hx, hy):\n",
    "    x = point[0]\n",
    "    y = point[1]\n",
    "    nextX = x - (g(x,y)*hy(x,y) - h(x,y)*gy(x,y)) / (gx(x,y)*hy(x,y) - gy(x,y)*hx(x,y))\n",
    "    nextY = y - (h(x,y)*gx(x,y) - g(x,y)*hx(x,y)) / (gx(x,y)*hy(x,y) - gy(x,y)*hx(x,y))\n",
    "    return (nextX, nextY)\n",
    "\n",
    "def delta(i, j):\n",
    "    return (i[0] - j[0])**2 + (i[1]-j[1])**2\n",
    "\n",
    "def complexNewton(initial, epsilon, maxIterations, g, h, gx, gy, hx, hy):\n",
    "    current = initial\n",
    "    prev = (np.inf, np.inf)\n",
    "    iterations = 0\n",
    "    while delta(prev, current) > epsilon:\n",
    "        prev = current\n",
    "        current = newtonIteration(current, g, h, gx, gy, hx, hy)\n",
    "        iterations = iterations + 1\n",
    "        if iterations > maxIterations:\n",
    "            return (np.nan, np.nan)\n",
    "    return current"
   ]
  },
  {
   "cell_type": "code",
   "execution_count": 18,
   "metadata": {},
   "outputs": [],
   "source": [
    "for x in range(PIXELS):\n",
    "    for y in range(PIXELS):\n",
    "        zeroFound = complexNewton(points[:, x, y], 0.0001, 10, g, h, gx, gy, hx, hy)\n",
    "        colors[x,y] = np.sum(zeroFound)    "
   ]
  },
  {
   "cell_type": "code",
   "execution_count": 19,
   "metadata": {},
   "outputs": [
    {
     "data": {
      "text/plain": [
       "<matplotlib.image.AxesImage at 0x1c1f685d400>"
      ]
     },
     "execution_count": 19,
     "metadata": {},
     "output_type": "execute_result"
    },
    {
     "data": {
      "image/png": "[encoded data removed]",
      "text/plain": [
       "<matplotlib.figure.Figure at 0x1c1f6a4aa20>"
      ]
     },
     "metadata": {},
     "output_type": "display_data"
    }
   ],
   "source": [
    "plt.imshow(colors)\n"
   ]
  },
  {
   "cell_type": "markdown",
   "metadata": {
    "collapsed": true
   },
   "source": [
    "### Future Considerations\n",
    "\n",
    "- How can this algorithm be improved by being parallel, very slow\n",
    "- Different language? overhead?\n",
    "- Recompute lots of values, can store calculations\n",
    "- Floating point errors\n",
    "\n",
    "talked about Kill Math, mention TryGit tutorial and anaconda installation"
   ]
  },
  {
   "cell_type": "code",
   "execution_count": null,
   "metadata": {},
   "outputs": [],
   "source": []
  }
 ],
 "metadata": {
  "kernelspec": {
   "display_name": "Python 3",
   "language": "python",
   "name": "python3"
  },
  "language_info": {
   "codemirror_mode": {
    "name": "ipython",
    "version": 3
   },
   "file_extension": ".py",
   "mimetype": "text/x-python",
   "name": "python",
   "nbconvert_exporter": "python",
   "pygments_lexer": "ipython3",
   "version": "3.6.3"
  }
 },
 "nbformat": 4,
 "nbformat_minor": 2
}
