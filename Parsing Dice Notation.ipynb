{
 "cells": [
  {
   "cell_type": "code",
   "execution_count": 1,
   "metadata": {},
   "outputs": [],
   "source": [
    "%matplotlib inline"
   ]
  },
  {
   "cell_type": "markdown",
   "metadata": {},
   "source": [
    "intro\n",
    "link to binder, website, intro, topics\n",
    "\n",
    "- string splitting\n",
    "- test with plotting\n",
    "- keep mechanics"
   ]
  },
  {
   "cell_type": "code",
   "execution_count": 2,
   "metadata": {},
   "outputs": [],
   "source": [
    "import numpy as np\n",
    "# link to numpy tutorial TODO\n",
    "import matplotlib.pyplot as plt\n",
    "# link TODO\n",
    "import re\n",
    "# description, link to regexr TODO"
   ]
  },
  {
   "cell_type": "code",
   "execution_count": 3,
   "metadata": {},
   "outputs": [
    {
     "data": {
      "text/plain": [
       "['5', '6']"
      ]
     },
     "execution_count": 3,
     "metadata": {},
     "output_type": "execute_result"
    }
   ],
   "source": [
    "x = \"5d6\"\n",
    "x.split('d')"
   ]
  },
  {
   "cell_type": "code",
   "execution_count": 4,
   "metadata": {},
   "outputs": [],
   "source": [
    "def simple_roll(dice):\n",
    "    '''docstring'''\n",
    "    number, sides = dice.split('d')\n",
    "    number = int(number)\n",
    "    sides = int(sides)\n",
    "    rolls = np.random.randint(1,sides+1, size=number)\n",
    "    return rolls\n",
    "    "
   ]
  },
  {
   "cell_type": "code",
   "execution_count": 5,
   "metadata": {},
   "outputs": [
    {
     "data": {
      "text/plain": [
       "array([2, 4, 1, 3, 3])"
      ]
     },
     "execution_count": 5,
     "metadata": {},
     "output_type": "execute_result"
    }
   ],
   "source": [
    "simple_roll('5d6')"
   ]
  },
  {
   "cell_type": "code",
   "execution_count": 6,
   "metadata": {},
   "outputs": [
    {
     "name": "stdout",
     "output_type": "stream",
     "text": [
      "Mean: 17.5081\n"
     ]
    },
    {
     "data": {
      "image/png": "[encoded data removed]",
      "text/plain": [
       "<Figure size 432x288 with 1 Axes>"
      ]
     },
     "metadata": {
      "needs_background": "light"
     },
     "output_type": "display_data"
    }
   ],
   "source": [
    "trials = 10000\n",
    "test_rolls = [0] * trials\n",
    "for i in range(trials):\n",
    "    test_rolls[i] = np.sum(simple_roll('5d6'))\n",
    "    \n",
    "bins = np.arange(1, np.max(test_rolls))\n",
    "plt.hist(test_rolls, bins=bins, density=True)\n",
    "print(\"Mean: \" + str(np.mean(test_rolls)))"
   ]
  },
  {
   "cell_type": "markdown",
   "metadata": {},
   "source": [
    "TODO: explain keep notation"
   ]
  },
  {
   "cell_type": "code",
   "execution_count": 7,
   "metadata": {},
   "outputs": [
    {
     "data": {
      "text/plain": [
       "['4d6', '3']"
      ]
     },
     "execution_count": 7,
     "metadata": {},
     "output_type": "execute_result"
    }
   ],
   "source": [
    "x = '4d6k3'\n",
    "x.split('k')"
   ]
  },
  {
   "cell_type": "code",
   "execution_count": 8,
   "metadata": {},
   "outputs": [
    {
     "name": "stdout",
     "output_type": "stream",
     "text": [
      "[1 1 2 2 3 5 5 6 6]\n"
     ]
    },
    {
     "data": {
      "text/plain": [
       "array([5, 5, 6, 6])"
      ]
     },
     "execution_count": 8,
     "metadata": {},
     "output_type": "execute_result"
    }
   ],
   "source": [
    "rolls = simple_roll('9d6')\n",
    "rolls\n",
    "x = np.partition(rolls, 4)\n",
    "print(x)\n",
    "x[-4:]"
   ]
  },
  {
   "cell_type": "code",
   "execution_count": 9,
   "metadata": {},
   "outputs": [],
   "source": [
    "def keep_dice(dice):\n",
    "    '''docstring'''\n",
    "    base_roll, keep = dice.split('k')\n",
    "    keep = int(keep)\n",
    "    rolls = simple_roll(base_roll)\n",
    "    #link to stack exchange for partition\n",
    "    kept_rolls = np.partition(rolls, keep)[-keep:]\n",
    "    return kept_rolls"
   ]
  },
  {
   "cell_type": "code",
   "execution_count": 10,
   "metadata": {},
   "outputs": [
    {
     "data": {
      "text/plain": [
       "array([3, 3, 3])"
      ]
     },
     "execution_count": 10,
     "metadata": {},
     "output_type": "execute_result"
    }
   ],
   "source": [
    "keep_dice('4d6k3')"
   ]
  },
  {
   "cell_type": "code",
   "execution_count": 11,
   "metadata": {},
   "outputs": [
    {
     "name": "stdout",
     "output_type": "stream",
     "text": [
      "Mean: 12.0872\n"
     ]
    },
    {
     "data": {
      "image/png": "[encoded data removed]",
      "text/plain": [
       "<Figure size 432x288 with 1 Axes>"
      ]
     },
     "metadata": {
      "needs_background": "light"
     },
     "output_type": "display_data"
    }
   ],
   "source": [
    "trials = 10000\n",
    "test_rolls = [0] * trials\n",
    "for i in range(trials):\n",
    "    test_rolls[i] = np.sum(keep_dice('4d6k3'))\n",
    "    \n",
    "bins = np.arange(1, np.max(test_rolls))\n",
    "plt.hist(test_rolls, bins=bins, density=True)\n",
    "print(\"Mean: \" + str(np.mean(test_rolls)))"
   ]
  },
  {
   "cell_type": "markdown",
   "metadata": {},
   "source": [
    "- more complicated scenarios\n",
    "- error checking\n",
    "\n",
    "explain regular expression"
   ]
  },
  {
   "cell_type": "code",
   "execution_count": 12,
   "metadata": {},
   "outputs": [
    {
     "data": {
      "text/plain": [
       "('5', '6')"
      ]
     },
     "execution_count": 12,
     "metadata": {},
     "output_type": "execute_result"
    }
   ],
   "source": [
    "x = re.search(r'(\\d+)d(\\d+)','5d6')\n",
    "x.groups()"
   ]
  },
  {
   "cell_type": "code",
   "execution_count": 13,
   "metadata": {},
   "outputs": [],
   "source": [
    "dice_expr = r'(\\d+)d(\\d+)'\n",
    "keep_expr = dice_expr + 'k(\\d+)'\n",
    "explode_expr = '(' + dice_expr + '|' + keep_expr + ')!'"
   ]
  },
  {
   "cell_type": "code",
   "execution_count": 14,
   "metadata": {},
   "outputs": [],
   "source": [
    "x = re.compile(dice_expr)"
   ]
  },
  {
   "cell_type": "code",
   "execution_count": 15,
   "metadata": {},
   "outputs": [
    {
     "name": "stdout",
     "output_type": "stream",
     "text": [
      "Help on built-in function fullmatch:\n",
      "\n",
      "fullmatch(string=None, pos=0, endpos=9223372036854775807, *, pattern=None) method of _sre.SRE_Pattern instance\n",
      "    Matches against all of the string\n",
      "\n"
     ]
    }
   ],
   "source": [
    "help(x.fullmatch)"
   ]
  },
  {
   "cell_type": "code",
   "execution_count": 16,
   "metadata": {},
   "outputs": [],
   "source": [
    "test_cases = {\n",
    "    '5d6' : 'dice',\n",
    "    '5dd6' : 'invalid',\n",
    "    '90d1' : 'dice',\n",
    "    '4d6k3' : 'keep',\n",
    "    '4d6!' : 'explode',\n",
    "    '9k3' : 'invalid',\n",
    "    'lol' : 'invalid',\n",
    "    '4d6k3!' : 'explode',\n",
    "    '2d20k1' : 'keep'\n",
    "}"
   ]
  },
  {
   "cell_type": "code",
   "execution_count": 17,
   "metadata": {},
   "outputs": [
    {
     "name": "stdout",
     "output_type": "stream",
     "text": [
      "Good 9k3\n",
      "Good 5d6\n",
      "Good 90d1\n",
      "Good 5dd6\n",
      "Good lol\n",
      "Good 4d6k3!\n",
      "Good 4d6k3\n",
      "Good 4d6!\n",
      "Good 2d20k1\n"
     ]
    }
   ],
   "source": [
    "dice_re = re.compile(dice_expr)\n",
    "for dice, answer in test_cases.items():\n",
    "    match = dice_re.fullmatch(dice)\n",
    "    if match is not None and answer == 'dice':\n",
    "        print('Good ' + dice)\n",
    "    elif match is None and answer != 'dice':\n",
    "        print('Good ' + dice)\n",
    "    else:\n",
    "        print('Bad  ' + dice)"
   ]
  },
  {
   "cell_type": "code",
   "execution_count": 18,
   "metadata": {},
   "outputs": [
    {
     "name": "stdout",
     "output_type": "stream",
     "text": [
      "Good 9k3\n",
      "Good 5d6\n",
      "Good 90d1\n",
      "Good 5dd6\n",
      "Good lol\n",
      "Good 4d6k3!\n",
      "Good 4d6k3\n",
      "Good 4d6!\n",
      "Good 2d20k1\n",
      "Good 9k3\n",
      "Good 5d6\n",
      "Good 90d1\n",
      "Good 5dd6\n",
      "Good lol\n",
      "Good 4d6k3!\n",
      "Good 4d6k3\n",
      "Good 4d6!\n",
      "Good 2d20k1\n"
     ]
    }
   ],
   "source": [
    "regex = re.compile(keep_expr)\n",
    "expected_answer = 'keep'\n",
    "\n",
    "for dice, answer in test_cases.items():\n",
    "    match = regex.fullmatch(dice)\n",
    "    if match is not None and answer == expected_answer:\n",
    "        print('Good ' + dice)\n",
    "    elif match is None and answer != expected_answer:\n",
    "        print('Good ' + dice)\n",
    "    else:\n",
    "        print('Bad  ' + dice)\n",
    "        \n",
    "        \n",
    "regex = re.compile(explode_expr)\n",
    "expected_answer = 'explode'\n",
    "\n",
    "for dice, answer in test_cases.items():\n",
    "    match = regex.fullmatch(dice)\n",
    "    if match is not None and answer == expected_answer:\n",
    "        print('Good ' + dice)\n",
    "    elif match is None and answer != expected_answer:\n",
    "        print('Good ' + dice)\n",
    "    else:\n",
    "        print('Bad  ' + dice)"
   ]
  },
  {
   "cell_type": "code",
   "execution_count": 56,
   "metadata": {},
   "outputs": [],
   "source": [
    "def roll_dice(number, sides, keep=None, explode=False):\n",
    "    '''docstring'''\n",
    "    \n",
    "    if number == 0:\n",
    "        return []\n",
    "    \n",
    "    rolls = np.random.randint(1,sides+1,number)\n",
    "    \n",
    "    if explode: #roll additional dice for highest values\n",
    "        num_max = np.sum(rolls == sides)\n",
    "        rolls = np.append(rolls, \n",
    "                         roll_dice(num_max, sides, keep=None, explode=explode))\n",
    "        \n",
    "    if keep is not None:\n",
    "        rolls = np.partition(rolls, keep)[-keep:]\n",
    "        \n",
    "    return rolls\n",
    "\n",
    "def regex_roll(dice, keep=None, explode=False):\n",
    "    '''docstring'''\n",
    "    dice_expr = r'(\\d+)d(\\d+)'\n",
    "    keep_expr = '(' + dice_expr + ')' + 'k(\\d+)'\n",
    "    explode_expr = '(' + dice_expr + '|' + keep_expr + ')!'\n",
    "    \n",
    "    explode_re = re.compile(explode_expr)\n",
    "    match = explode_re.fullmatch(dice)\n",
    "    \n",
    "    if match is not None: # exploding dice roll\n",
    "        return regex_roll(match.group(1), explode=True)\n",
    "    \n",
    "    keep_re = re.compile(keep_expr)\n",
    "    match = keep_re.fullmatch(dice)\n",
    "    \n",
    "    if match is not None: #keep dice\n",
    "        keep = int(match.groups()[3])\n",
    "        dice = match.groups()[0]\n",
    "        return regex_roll(dice, keep=keep, explode=explode)\n",
    "    \n",
    "    dice_re = re.compile(dice_expr)\n",
    "    match = dice_re.fullmatch(dice)\n",
    "    \n",
    "    if match is None:\n",
    "        raise ValueError('Invalid dice notation: ' + dice)\n",
    "    \n",
    "    number, sides = map(int, match.groups())\n",
    "    \n",
    "    return roll_dice(number, sides, keep, explode)"
   ]
  },
  {
   "cell_type": "code",
   "execution_count": 64,
   "metadata": {},
   "outputs": [
    {
     "data": {
      "text/plain": [
       "array([5., 1., 5., 6., 2.])"
      ]
     },
     "execution_count": 64,
     "metadata": {},
     "output_type": "execute_result"
    }
   ],
   "source": [
    "regex_roll('4d6!')"
   ]
  },
  {
   "cell_type": "markdown",
   "metadata": {},
   "source": [
    "get crazy\n",
    "\n",
    "- parse tree"
   ]
  }
 ],
 "metadata": {
  "kernelspec": {
   "display_name": "Python 3",
   "language": "python",
   "name": "python3"
  },
  "language_info": {
   "codemirror_mode": {
    "name": "ipython",
    "version": 3
   },
   "file_extension": ".py",
   "mimetype": "text/x-python",
   "name": "python",
   "nbconvert_exporter": "python",
   "pygments_lexer": "ipython3",
   "version": "3.5.6"
  }
 },
 "nbformat": 4,
 "nbformat_minor": 2
}
