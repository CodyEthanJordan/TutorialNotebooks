{
 "cells": [
  {
   "cell_type": "code",
   "execution_count": 1,
   "metadata": {},
   "outputs": [],
   "source": [
    "%matplotlib inline"
   ]
  },
  {
   "cell_type": "markdown",
   "metadata": {},
   "source": [
    "intro\n",
    "link to binder, website, intro, topics\n",
    "\n",
    "- string splitting\n",
    "- test with plotting\n",
    "- keep mechanics\n",
    "\n",
    "`XdY`\n",
    "\n",
    "**Roll X die each with Y sides**"
   ]
  },
  {
   "cell_type": "code",
   "execution_count": 2,
   "metadata": {},
   "outputs": [],
   "source": [
    "import numpy as np\n",
    "# link to numpy tutorial TODO\n",
    "import matplotlib.pyplot as plt\n",
    "# link TODO\n",
    "import re\n",
    "# description, link to regexr TODO"
   ]
  },
  {
   "cell_type": "code",
   "execution_count": 3,
   "metadata": {},
   "outputs": [
    {
     "data": {
      "text/plain": [
       "['5', '6']"
      ]
     },
     "execution_count": 3,
     "metadata": {},
     "output_type": "execute_result"
    }
   ],
   "source": [
    "x = \"5d6\"\n",
    "x.split('d')"
   ]
  },
  {
   "cell_type": "code",
   "execution_count": 4,
   "metadata": {},
   "outputs": [],
   "source": [
    "def simple_roll(dice):\n",
    "    '''docstring'''\n",
    "    number, sides = dice.split('d')\n",
    "    number = int(number)\n",
    "    sides = int(sides)\n",
    "    rolls = np.random.randint(1,sides+1, size=number)\n",
    "    return rolls"
   ]
  },
  {
   "cell_type": "code",
   "execution_count": 79,
   "metadata": {},
   "outputs": [
    {
     "data": {
      "text/plain": [
       "array([5, 5, 4, 4, 4])"
      ]
     },
     "execution_count": 79,
     "metadata": {},
     "output_type": "execute_result"
    }
   ],
   "source": [
    "simple_roll('5d6')"
   ]
  },
  {
   "cell_type": "markdown",
   "metadata": {},
   "source": [
    "### Plotting the Results\n",
    "\n"
   ]
  },
  {
   "cell_type": "code",
   "execution_count": 70,
   "metadata": {},
   "outputs": [
    {
     "name": "stdout",
     "output_type": "stream",
     "text": [
      "Mean: 17.4858\n",
      "Expected Mean: 17.5\n"
     ]
    },
    {
     "data": {
      "image/png": "[encoded data removed]",
      "text/plain": [
       "<Figure size 432x288 with 1 Axes>"
      ]
     },
     "metadata": {
      "needs_background": "light"
     },
     "output_type": "display_data"
    }
   ],
   "source": [
    "trials = 10000\n",
    "test_rolls = [0] * trials\n",
    "for i in range(trials):\n",
    "    test_rolls[i] = np.sum(simple_roll('5d6'))\n",
    "    \n",
    "bins = np.arange(1, np.max(test_rolls)+1)\n",
    "plt.hist(test_rolls, bins=bins, density=True)\n",
    "print(\"Mean: \" + str(np.mean(test_rolls)))\n",
    "print('Expected Mean: ' + str(3.5*5))"
   ]
  },
  {
   "cell_type": "markdown",
   "metadata": {},
   "source": [
    "## Roll and Keep\n",
    "\n",
    "There are more complicated things that some games do, like generating ability scores for Dungeons and Dragons by rolling 4 6-sided die and keeping the highest 3 of those.\n",
    "\n",
    "`XdYkN`\n",
    "\n",
    "**Roll X die each with Y sides, and then only keep the highest N number of those dice.\n",
    "\n",
    "How can we get a program to parse this sort of roll? One idea would be to extend what we have so far, splitting the string where the 'k' is located to find how many we want to keep, and then rolling the rest of the dice as before."
   ]
  },
  {
   "cell_type": "code",
   "execution_count": 7,
   "metadata": {},
   "outputs": [
    {
     "data": {
      "text/plain": [
       "['4d6', '3']"
      ]
     },
     "execution_count": 7,
     "metadata": {},
     "output_type": "execute_result"
    }
   ],
   "source": [
    "x = '4d6k3'\n",
    "x.split('k')"
   ]
  },
  {
   "cell_type": "code",
   "execution_count": 8,
   "metadata": {},
   "outputs": [
    {
     "name": "stdout",
     "output_type": "stream",
     "text": [
      "[1 1 2 2 3 5 5 6 6]\n"
     ]
    },
    {
     "data": {
      "text/plain": [
       "array([5, 5, 6, 6])"
      ]
     },
     "execution_count": 8,
     "metadata": {},
     "output_type": "execute_result"
    }
   ],
   "source": [
    "# concepting out how to only keep the 4 highest dice in a given set\n",
    "rolls = simple_roll('9d6')\n",
    "rolls\n",
    "x = np.partition(rolls, 4)\n",
    "# TODO: link to post\n",
    "print(x)\n",
    "x[-4:]"
   ]
  },
  {
   "cell_type": "code",
   "execution_count": 9,
   "metadata": {},
   "outputs": [],
   "source": [
    "def keep_dice(dice):\n",
    "    '''docstring'''\n",
    "    base_roll, keep = dice.split('k')\n",
    "    keep = int(keep)\n",
    "    rolls = simple_roll(base_roll)\n",
    "    #link to stack exchange for partition\n",
    "    kept_rolls = np.partition(rolls, keep)[-keep:]\n",
    "    return kept_rolls"
   ]
  },
  {
   "cell_type": "code",
   "execution_count": 67,
   "metadata": {},
   "outputs": [
    {
     "data": {
      "text/plain": [
       "array([3, 6, 6])"
      ]
     },
     "execution_count": 67,
     "metadata": {},
     "output_type": "execute_result"
    }
   ],
   "source": [
    "keep_dice('4d6k3')"
   ]
  },
  {
   "cell_type": "code",
   "execution_count": 71,
   "metadata": {},
   "outputs": [
    {
     "name": "stdout",
     "output_type": "stream",
     "text": [
      "Mean: 12.0696\n"
     ]
    },
    {
     "data": {
      "image/png": "[encoded data removed]",
      "text/plain": [
       "<Figure size 432x288 with 1 Axes>"
      ]
     },
     "metadata": {
      "needs_background": "light"
     },
     "output_type": "display_data"
    }
   ],
   "source": [
    "trials = 10000\n",
    "test_rolls = [0] * trials\n",
    "for i in range(trials):\n",
    "    test_rolls[i] = np.sum(keep_dice('4d6k3'))\n",
    "    \n",
    "bins = np.arange(1, np.max(test_rolls)+1)\n",
    "plt.hist(test_rolls, bins=bins, density=True)\n",
    "print(\"Mean: \" + str(np.mean(test_rolls)))"
   ]
  },
  {
   "cell_type": "markdown",
   "metadata": {},
   "source": [
    "Trying this out on 4d6 we can see that it generally shifts the distribution upwards a bit, and raises the average on what would be expected for 3d6."
   ]
  },
  {
   "cell_type": "markdown",
   "metadata": {},
   "source": [
    "### Regex to the Rescue\n",
    "\n",
    "While this has worked well so far for parsing strings in to dice rolls, there are two main problems with the simple approach of using basic string manipulation.\n",
    "\n",
    "- there is no error checking, and even worse, passing '4d6' to the keep function will cause it to fail\n",
    "- as we want to capture more complicated scenarios the functions will get very messy\n",
    "\n",
    "What would be nice to have is a description of what valid dice notation looks like, and a function which can process anything in that notation. This is where the regular expressions come in.\n",
    "\n",
    "Conceptually this is\n",
    "\n",
    "(the number of dice we want to roll) (the letter d) (how many sides these dice have)\n",
    "\n",
    "and in the language of regex we can break this down as\n",
    "- `\\d` a single digit\n",
    "- `+` one of more of the last item\n",
    "- all letters in regex match exactly that letter, and we need to find the letter `d`\n",
    "\n",
    "so each of these becomes\n",
    "- the number of dice we want to roll = `\\d+`\n",
    "- the letter d = `d`\n",
    "- the number of sides each die has = `\\d+`\n",
    "\n",
    "regex also has a concept called capture groups, meaning that in addition to making sure that the pattern looks right, we want to use part of that pattern later for something useful. Capture groups go in parenthesis so the final expression for a simple die roll is\n",
    "\n",
    "`(\\d+)d(\\d+)`\n",
    "\n",
    "or for a roll where you only keep so many of the die\n",
    "\n",
    "`(\\d+)d(\\d+)k(\\d+)`"
   ]
  },
  {
   "cell_type": "code",
   "execution_count": 72,
   "metadata": {},
   "outputs": [
    {
     "data": {
      "text/plain": [
       "('5', '6')"
      ]
     },
     "execution_count": 72,
     "metadata": {},
     "output_type": "execute_result"
    }
   ],
   "source": [
    "# lets try this out\n",
    "match = re.search(r'(\\d+)d(\\d+)','5d6')\n",
    "match.groups()"
   ]
  },
  {
   "cell_type": "code",
   "execution_count": 74,
   "metadata": {},
   "outputs": [
    {
     "name": "stdout",
     "output_type": "stream",
     "text": [
      "None\n"
     ]
    }
   ],
   "source": [
    "# if the pattern isn't right a None object is returned\n",
    "match = re.search(r'(\\d+)d(\\d+)','this is not a valid dice notation')\n",
    "print(match)"
   ]
  },
  {
   "cell_type": "markdown",
   "metadata": {},
   "source": [
    "### Exploding Dice\n",
    "\n",
    "Lets introduce a new dice concept to stretch our new regex power, exploding dice. Say you have a game where you roll some 6-sided die, and for every 6 you roll you get to roll one additional die.\n",
    "\n",
    "`XdY!`\n",
    "\n",
    "**Roll X die with Y sides, and for every max valued die roll an additional Y-sided die and add it to the pile (meaning you may end up with more than X total rolls after this is all done).\n",
    "\n",
    "But in fact we would also like to be able to say things like \"4d6k3!\", combining the keep mechanic and exploding dice mechanic. So in front of the ! we can have either of the two. The bar, `|`, means either of the two surrounding items, resulting in the thorny regex\n",
    "\n",
    "`((\\d+)d(\\d+))|((\\d+)d(\\d+)k(\\d+))!`\n",
    "\n",
    "which is expressed a bit more reasonably when broken down in to sections"
   ]
  },
  {
   "cell_type": "code",
   "execution_count": 75,
   "metadata": {},
   "outputs": [],
   "source": [
    "dice_expr = r'(\\d+)d(\\d+)'\n",
    "keep_expr = dice_expr + 'k(\\d+)'\n",
    "explode_expr = '(' + dice_expr + '|' + keep_expr + ')!'"
   ]
  },
  {
   "cell_type": "markdown",
   "metadata": {},
   "source": [
    "Alternatively regex also allows certain clauses to be marked as optional, which we could used to indicate the the `kN` portion is not strictly needed in order to be considered valid.\n",
    "\n",
    "Lets test some of these out by writing some input and labeling it as the type of roll which needs to be done."
   ]
  },
  {
   "cell_type": "code",
   "execution_count": 76,
   "metadata": {},
   "outputs": [],
   "source": [
    "test_cases = {\n",
    "    '5d6' : 'dice',\n",
    "    '5dd6' : 'invalid',\n",
    "    '90d1' : 'dice',\n",
    "    '4d6k3' : 'keep',\n",
    "    '4d6!' : 'explode',\n",
    "    '9k3' : 'invalid',\n",
    "    'lol' : 'invalid',\n",
    "    '4d6k3!' : 'explode',\n",
    "    '2d20k1' : 'keep'\n",
    "}"
   ]
  },
  {
   "cell_type": "code",
   "execution_count": 77,
   "metadata": {},
   "outputs": [
    {
     "name": "stdout",
     "output_type": "stream",
     "text": [
      "Good 9k3\n",
      "Good 5d6\n",
      "Good 90d1\n",
      "Good 5dd6\n",
      "Good lol\n",
      "Good 4d6k3!\n",
      "Good 4d6k3\n",
      "Good 4d6!\n",
      "Good 2d20k1\n"
     ]
    }
   ],
   "source": [
    "dice_re = re.compile(dice_expr) # turn the expression in to a regex object\n",
    "for dice, answer in test_cases.items(): # look at each case in the test_cases\n",
    "    match = dice_re.fullmatch(dice) # try to see if it matches\n",
    "    if match is not None and answer == 'dice':\n",
    "        print('Good ' + dice)\n",
    "    elif match is None and answer != 'dice':\n",
    "        print('Good ' + dice)\n",
    "    else:\n",
    "        print('Bad  ' + dice)"
   ]
  },
  {
   "cell_type": "code",
   "execution_count": 78,
   "metadata": {},
   "outputs": [
    {
     "name": "stdout",
     "output_type": "stream",
     "text": [
      "Good 9k3\n",
      "Good 5d6\n",
      "Good 90d1\n",
      "Good 5dd6\n",
      "Good lol\n",
      "Good 4d6k3!\n",
      "Good 4d6k3\n",
      "Good 4d6!\n",
      "Good 2d20k1\n",
      "Good 9k3\n",
      "Good 5d6\n",
      "Good 90d1\n",
      "Good 5dd6\n",
      "Good lol\n",
      "Good 4d6k3!\n",
      "Good 4d6k3\n",
      "Good 4d6!\n",
      "Good 2d20k1\n"
     ]
    }
   ],
   "source": [
    "regex = re.compile(keep_expr) # test the keep ones\n",
    "expected_answer = 'keep'\n",
    "\n",
    "for dice, answer in test_cases.items():\n",
    "    match = regex.fullmatch(dice)\n",
    "    if match is not None and answer == expected_answer:\n",
    "        print('Good ' + dice)\n",
    "    elif match is None and answer != expected_answer:\n",
    "        print('Good ' + dice)\n",
    "    else:\n",
    "        print('Bad  ' + dice)\n",
    "        \n",
    "        \n",
    "regex = re.compile(explode_expr) # test the exploding dice\n",
    "expected_answer = 'explode'\n",
    "\n",
    "for dice, answer in test_cases.items():\n",
    "    match = regex.fullmatch(dice)\n",
    "    if match is not None and answer == expected_answer:\n",
    "        print('Good ' + dice)\n",
    "    elif match is None and answer != expected_answer:\n",
    "        print('Good ' + dice)\n",
    "    else:\n",
    "        print('Bad  ' + dice)"
   ]
  },
  {
   "cell_type": "markdown",
   "metadata": {},
   "source": [
    "With this working we can make a function which accepts any of these forms and rolls the dice."
   ]
  },
  {
   "cell_type": "code",
   "execution_count": 56,
   "metadata": {},
   "outputs": [],
   "source": [
    "def roll_dice(number, sides, keep=None, explode=False):\n",
    "    '''docstring'''\n",
    "    \n",
    "    if number == 0:\n",
    "        return []\n",
    "    \n",
    "    rolls = np.random.randint(1,sides+1,number)\n",
    "    \n",
    "    if explode: #roll additional dice for highest values\n",
    "        num_max = np.sum(rolls == sides)\n",
    "        rolls = np.append(rolls, \n",
    "                         roll_dice(num_max, sides, keep=None, explode=explode))\n",
    "        \n",
    "    if keep is not None:\n",
    "        rolls = np.partition(rolls, keep)[-keep:]\n",
    "        \n",
    "    return rolls\n",
    "\n",
    "def regex_roll(dice, keep=None, explode=False):\n",
    "    '''docstring'''\n",
    "    dice_expr = r'(\\d+)d(\\d+)'\n",
    "    keep_expr = '(' + dice_expr + ')' + 'k(\\d+)'\n",
    "    explode_expr = '(' + dice_expr + '|' + keep_expr + ')!'\n",
    "    \n",
    "    explode_re = re.compile(explode_expr)\n",
    "    match = explode_re.fullmatch(dice)\n",
    "    \n",
    "    if match is not None: # exploding dice roll\n",
    "        return regex_roll(match.group(1), explode=True)\n",
    "    \n",
    "    keep_re = re.compile(keep_expr)\n",
    "    match = keep_re.fullmatch(dice)\n",
    "    \n",
    "    if match is not None: #keep dice\n",
    "        keep = int(match.groups()[3])\n",
    "        dice = match.groups()[0]\n",
    "        return regex_roll(dice, keep=keep, explode=explode)\n",
    "    \n",
    "    dice_re = re.compile(dice_expr)\n",
    "    match = dice_re.fullmatch(dice)\n",
    "    \n",
    "    if match is None:\n",
    "        raise ValueError('Invalid dice notation: ' + dice)\n",
    "    \n",
    "    number, sides = map(int, match.groups())\n",
    "    \n",
    "    return roll_dice(number, sides, keep, explode)"
   ]
  },
  {
   "cell_type": "code",
   "execution_count": 64,
   "metadata": {},
   "outputs": [
    {
     "data": {
      "text/plain": [
       "array([5., 1., 5., 6., 2.])"
      ]
     },
     "execution_count": 64,
     "metadata": {},
     "output_type": "execute_result"
    }
   ],
   "source": [
    "regex_roll('4d6!')"
   ]
  },
  {
   "cell_type": "markdown",
   "metadata": {},
   "source": [
    "## Getting Crazy\n",
    "\n",
    "So we have a function which covers most of the commonly used dice systems for games. But there is much more\n",
    "\n",
    "- what if we want to roll different kinds of dice?\n",
    "- treat all rolls below a 3 as being equal to a 3\n",
    "- count how many rolls are greater than 8\n",
    "\n",
    "but why limit ourselves to the realm of sane dice mechanics, why not...\n",
    "\n",
    "`(1d4+2d6)d20!>10`\n",
    "\n",
    "Roll a d4 and two 6-sided die, add them up, then roll that number of exploding 20-sided die and count how many of those rolled higher than a 10. \n",
    "\n",
    "You may ask why, and the reasons are\n",
    "- to drive players insane\n",
    "- to teach you about compiler designer and parse trees\n",
    "\n",
    "At this point something surprising happens, despite seemingly limitless potential no regular expression can possibly describe all of the valid rolls in this notation. What really trips it up is being able to nest sub-rolls inside of parenthesis. "
   ]
  },
  {
   "cell_type": "code",
   "execution_count": null,
   "metadata": {},
   "outputs": [],
   "source": []
  }
 ],
 "metadata": {
  "kernelspec": {
   "display_name": "Python 3",
   "language": "python",
   "name": "python3"
  },
  "language_info": {
   "codemirror_mode": {
    "name": "ipython",
    "version": 3
   },
   "file_extension": ".py",
   "mimetype": "text/x-python",
   "name": "python",
   "nbconvert_exporter": "python",
   "pygments_lexer": "ipython3",
   "version": "3.5.6"
  }
 },
 "nbformat": 4,
 "nbformat_minor": 2
}
