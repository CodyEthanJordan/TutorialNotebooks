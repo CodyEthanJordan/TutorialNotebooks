{
 "cells": [
  {
   "cell_type": "code",
   "execution_count": 1,
   "metadata": {},
   "outputs": [],
   "source": [
    "%matplotlib inline"
   ]
  },
  {
   "cell_type": "markdown",
   "metadata": {},
   "source": [
    "intro\n",
    "link to binder, website, intro, topics\n",
    "\n",
    "- string splitting\n",
    "- test with plotting\n",
    "- keep mechanics"
   ]
  },
  {
   "cell_type": "code",
   "execution_count": 20,
   "metadata": {},
   "outputs": [],
   "source": [
    "import numpy as np\n",
    "# link to numpy tutorial TODO\n",
    "import matplotlib.pyplot as plt\n",
    "# link TODO\n",
    "import re\n",
    "# description, link to regexr TODO"
   ]
  },
  {
   "cell_type": "code",
   "execution_count": 5,
   "metadata": {},
   "outputs": [
    {
     "data": {
      "text/plain": [
       "['5', '6']"
      ]
     },
     "execution_count": 5,
     "metadata": {},
     "output_type": "execute_result"
    }
   ],
   "source": [
    "x = \"5d6\"\n",
    "x.split('d')"
   ]
  },
  {
   "cell_type": "code",
   "execution_count": 15,
   "metadata": {},
   "outputs": [],
   "source": [
    "def simple_roll(dice):\n",
    "    '''docstring'''\n",
    "    number, sides = dice.split('d')\n",
    "    number = int(number)\n",
    "    sides = int(sides)\n",
    "    rolls = np.random.randint(1,sides+1, size=number)\n",
    "    return rolls\n",
    "    "
   ]
  },
  {
   "cell_type": "code",
   "execution_count": 16,
   "metadata": {},
   "outputs": [
    {
     "data": {
      "text/plain": [
       "array([2, 5, 6, 2, 1])"
      ]
     },
     "execution_count": 16,
     "metadata": {},
     "output_type": "execute_result"
    }
   ],
   "source": [
    "simple_roll('5d6')"
   ]
  },
  {
   "cell_type": "code",
   "execution_count": 40,
   "metadata": {},
   "outputs": [
    {
     "name": "stdout",
     "output_type": "stream",
     "text": [
      "Mean: 17.412\n"
     ]
    },
    {
     "data": {
      "image/png": "[encoded data removed]",
      "text/plain": [
       "<Figure size 432x288 with 1 Axes>"
      ]
     },
     "metadata": {
      "needs_background": "light"
     },
     "output_type": "display_data"
    }
   ],
   "source": [
    "trials = 10000\n",
    "test_rolls = [0] * trials\n",
    "for i in range(trials):\n",
    "    test_rolls[i] = np.sum(simple_roll('5d6'))\n",
    "    \n",
    "bins = np.arange(1, np.max(test_rolls))\n",
    "plt.hist(test_rolls, bins=bins, density=True)\n",
    "print(\"Mean: \" + str(np.mean(test_rolls)))"
   ]
  },
  {
   "cell_type": "markdown",
   "metadata": {},
   "source": [
    "TODO: explain keep notation"
   ]
  },
  {
   "cell_type": "code",
   "execution_count": 41,
   "metadata": {},
   "outputs": [
    {
     "data": {
      "text/plain": [
       "['4d6', '3']"
      ]
     },
     "execution_count": 41,
     "metadata": {},
     "output_type": "execute_result"
    }
   ],
   "source": [
    "x = '4d6k3'\n",
    "x.split('k')"
   ]
  },
  {
   "cell_type": "code",
   "execution_count": 56,
   "metadata": {},
   "outputs": [
    {
     "name": "stdout",
     "output_type": "stream",
     "text": [
      "[2 1 2 1 3 6 6 5 6]\n"
     ]
    },
    {
     "data": {
      "text/plain": [
       "array([6, 6, 5, 6])"
      ]
     },
     "execution_count": 56,
     "metadata": {},
     "output_type": "execute_result"
    }
   ],
   "source": [
    "rolls = simple_roll('9d6')\n",
    "rolls\n",
    "x = np.partition(rolls, 4)\n",
    "print(x)\n",
    "x[-4:]"
   ]
  },
  {
   "cell_type": "code",
   "execution_count": 59,
   "metadata": {},
   "outputs": [],
   "source": [
    "def keep_dice(dice):\n",
    "    '''docstring'''\n",
    "    base_roll, keep = dice.split('k')\n",
    "    keep = int(keep)\n",
    "    rolls = simple_roll(base_roll)\n",
    "    #link to stack exchange for partition\n",
    "    kept_rolls = np.partition(rolls, keep)[-keep:]\n",
    "    return kept_rolls"
   ]
  },
  {
   "cell_type": "code",
   "execution_count": 60,
   "metadata": {},
   "outputs": [
    {
     "data": {
      "text/plain": [
       "array([5, 6, 6])"
      ]
     },
     "execution_count": 60,
     "metadata": {},
     "output_type": "execute_result"
    }
   ],
   "source": [
    "keep_dice('4d6k3')"
   ]
  },
  {
   "cell_type": "code",
   "execution_count": 62,
   "metadata": {},
   "outputs": [
    {
     "name": "stdout",
     "output_type": "stream",
     "text": [
      "Mean: 12.0768\n"
     ]
    },
    {
     "data": {
      "image/png": "[encoded data removed]",
      "text/plain": [
       "<Figure size 432x288 with 1 Axes>"
      ]
     },
     "metadata": {
      "needs_background": "light"
     },
     "output_type": "display_data"
    }
   ],
   "source": [
    "trials = 10000\n",
    "test_rolls = [0] * trials\n",
    "for i in range(trials):\n",
    "    test_rolls[i] = np.sum(keep_dice('4d6k3'))\n",
    "    \n",
    "bins = np.arange(1, np.max(test_rolls))\n",
    "plt.hist(test_rolls, bins=bins, density=True)\n",
    "print(\"Mean: \" + str(np.mean(test_rolls)))"
   ]
  },
  {
   "cell_type": "markdown",
   "metadata": {},
   "source": [
    "- more complicated scenarios\n",
    "- error checking\n",
    "\n",
    "explain regular expression"
   ]
  },
  {
   "cell_type": "code",
   "execution_count": 74,
   "metadata": {},
   "outputs": [
    {
     "data": {
      "text/plain": [
       "('5', '6')"
      ]
     },
     "execution_count": 74,
     "metadata": {},
     "output_type": "execute_result"
    }
   ],
   "source": [
    "x = re.search(r'(\\d+)d(\\d+)','5d6')\n",
    "x.groups()"
   ]
  },
  {
   "cell_type": "code",
   "execution_count": 84,
   "metadata": {},
   "outputs": [],
   "source": [
    "dice_expr = r'(\\d+)d(\\d+)'\n",
    "keep_expr = dice_expr + 'k(\\d+)'\n",
    "explode_expr = '(' + dice_expr + '|' + keep_expr + ')!'"
   ]
  },
  {
   "cell_type": "code",
   "execution_count": 76,
   "metadata": {},
   "outputs": [],
   "source": [
    "x = re.compile(dice_expr)"
   ]
  },
  {
   "cell_type": "code",
   "execution_count": 83,
   "metadata": {},
   "outputs": [
    {
     "name": "stdout",
     "output_type": "stream",
     "text": [
      "Help on built-in function fullmatch:\n",
      "\n",
      "fullmatch(string=None, pos=0, endpos=9223372036854775807, *, pattern=None) method of _sre.SRE_Pattern instance\n",
      "    Matches against all of the string\n",
      "\n"
     ]
    }
   ],
   "source": [
    "help(x.fullmatch)"
   ]
  },
  {
   "cell_type": "code",
   "execution_count": 91,
   "metadata": {},
   "outputs": [],
   "source": [
    "test_cases = {\n",
    "    '5d6' : 'dice',\n",
    "    '5dd6' : 'invalid',\n",
    "    '90d1' : 'dice',\n",
    "    '4d6k3' : 'keep',\n",
    "    '4d6!' : 'explode',\n",
    "    '9k3' : 'invalid',\n",
    "    'lol' : 'invalid',\n",
    "    '4d6k3!' : 'explode',\n",
    "    '2d20k1' : 'keep'\n",
    "}\n",
    "\n"
   ]
  },
  {
   "cell_type": "code",
   "execution_count": 95,
   "metadata": {},
   "outputs": [
    {
     "ename": "AttributeError",
     "evalue": "'_sre.SRE_Pattern' object has no attribute 'compile'",
     "output_type": "error",
     "traceback": [
      "\u001b[1;31m---------------------------------------------------------------------------\u001b[0m",
      "\u001b[1;31mAttributeError\u001b[0m                            Traceback (most recent call last)",
      "\u001b[1;32m<ipython-input-95-5ca21371456e>\u001b[0m in \u001b[0;36m<module>\u001b[1;34m()\u001b[0m\n\u001b[1;32m----> 1\u001b[1;33m \u001b[0mdice_re\u001b[0m \u001b[1;33m=\u001b[0m \u001b[0mre\u001b[0m\u001b[1;33m.\u001b[0m\u001b[0mcompile\u001b[0m\u001b[1;33m(\u001b[0m\u001b[0mdice_expr\u001b[0m\u001b[1;33m)\u001b[0m\u001b[1;33m\u001b[0m\u001b[0m\n\u001b[0m\u001b[0;32m      2\u001b[0m \u001b[1;32mfor\u001b[0m \u001b[0mdice\u001b[0m\u001b[1;33m,\u001b[0m \u001b[0manswer\u001b[0m \u001b[1;32min\u001b[0m \u001b[0mtest_cases\u001b[0m\u001b[1;33m.\u001b[0m\u001b[0mitems\u001b[0m\u001b[1;33m(\u001b[0m\u001b[1;33m)\u001b[0m\u001b[1;33m:\u001b[0m\u001b[1;33m\u001b[0m\u001b[0m\n\u001b[0;32m      3\u001b[0m     \u001b[0mmatch\u001b[0m \u001b[1;33m=\u001b[0m \u001b[0mdice_re\u001b[0m\u001b[1;33m.\u001b[0m\u001b[0mfullmatch\u001b[0m\u001b[1;33m(\u001b[0m\u001b[0mdice\u001b[0m\u001b[1;33m)\u001b[0m\u001b[1;33m\u001b[0m\u001b[0m\n\u001b[0;32m      4\u001b[0m     \u001b[1;32mif\u001b[0m \u001b[0mmatch\u001b[0m \u001b[1;32mis\u001b[0m \u001b[1;32mnot\u001b[0m \u001b[1;32mNone\u001b[0m \u001b[1;32mand\u001b[0m \u001b[0manswer\u001b[0m \u001b[1;33m==\u001b[0m \u001b[1;34m'dice'\u001b[0m\u001b[1;33m:\u001b[0m\u001b[1;33m\u001b[0m\u001b[0m\n\u001b[0;32m      5\u001b[0m         \u001b[0mprint\u001b[0m\u001b[1;33m(\u001b[0m\u001b[1;34m'Good '\u001b[0m \u001b[1;33m+\u001b[0m \u001b[0mdice\u001b[0m\u001b[1;33m)\u001b[0m\u001b[1;33m\u001b[0m\u001b[0m\n",
      "\u001b[1;31mAttributeError\u001b[0m: '_sre.SRE_Pattern' object has no attribute 'compile'"
     ]
    }
   ],
   "source": [
    "dice_re = re.compile(dice_expr)\n",
    "for dice, answer in test_cases.items():\n",
    "    match = dice_re.fullmatch(dice)\n",
    "    if match is not None and answer == 'dice':\n",
    "        print('Good ' + dice)\n",
    "    elif match is None and answer != 'dice':\n",
    "        print('Good ' + dice)\n",
    "    else:\n",
    "        print('Bad  ' + dice)"
   ]
  },
  {
   "cell_type": "code",
   "execution_count": 93,
   "metadata": {},
   "outputs": [
    {
     "name": "stdout",
     "output_type": "stream",
     "text": [
      "Good 90d1\n",
      "Good 2d20k1\n",
      "Good 4d6!\n",
      "Good 4d6k3!\n",
      "Good 9k3\n",
      "Good 4d6k3\n",
      "Good 5d6\n",
      "Good lol\n",
      "Good 5dd6\n"
     ]
    }
   ],
   "source": [
    "re = re.compile(keep_expr)\n",
    "expected_answer = 'keep'\n",
    "\n",
    "for dice, answer in test_cases.items():\n",
    "    match = re.fullmatch(dice)\n",
    "    if match is not None and answer == expected_answer:\n",
    "        print('Good ' + dice)\n",
    "    elif match is None and answer != expected_answer:\n",
    "        print('Good ' + dice)\n",
    "    else:\n",
    "        print('Bad  ' + dice)"
   ]
  },
  {
   "cell_type": "code",
   "execution_count": null,
   "metadata": {},
   "outputs": [],
   "source": []
  }
 ],
 "metadata": {
  "kernelspec": {
   "display_name": "Python 3",
   "language": "python",
   "name": "python3"
  },
  "language_info": {
   "codemirror_mode": {
    "name": "ipython",
    "version": 3
   },
   "file_extension": ".py",
   "mimetype": "text/x-python",
   "name": "python",
   "nbconvert_exporter": "python",
   "pygments_lexer": "ipython3",
   "version": "3.5.6"
  }
 },
 "nbformat": 4,
 "nbformat_minor": 2
}
