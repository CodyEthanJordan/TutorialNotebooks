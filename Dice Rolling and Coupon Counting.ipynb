{
 "cells": [
  {
   "cell_type": "markdown",
   "metadata": {},
   "source": [
    "https://en.wikipedia.org/wiki/Coupon_collector%27s_problem\n",
    "\n",
    "Uinsg markov chains to solve probability problems\n",
    "https://probabilitytopics.wordpress.com/2017/12/15/first-step-analysis-and-fundamental-matrix/\n",
    "\n",
    "Dice problems Conroy\n",
    "https://www.madandmoonly.com/doctormatt/mathematics/dice1.pdf\n",
    "\n",
    "Flajolet Gardy, Birthday paradox, coupon\n",
    "collectors, caching algorithms and\n",
    "self-organizing search \n",
    "http://algo.inria.fr/flajolet/Publications/FlGaTh92.pdf\n",
    "\n",
    "Figuring out dice probabilities\n",
    "https://www.lucamoroni.it/the-dice-roll-sum-problem/\n"
   ]
  },
  {
   "cell_type": "code",
   "execution_count": 1,
   "metadata": {},
   "outputs": [],
   "source": [
    "%matplotlib inline\n",
    "import numpy as np\n",
    "import matplotlib.pyplot as plt"
   ]
  },
  {
   "cell_type": "code",
   "execution_count": 3,
   "metadata": {},
   "outputs": [
    {
     "data": {
      "text/plain": [
       "4294967296"
      ]
     },
     "execution_count": 3,
     "metadata": {},
     "output_type": "execute_result"
    }
   ],
   "source": []
  },
  {
   "cell_type": "code",
   "execution_count": 30,
   "metadata": {},
   "outputs": [],
   "source": [
    "# simulate dice roll\n",
    "def rolls_to_variety():\n",
    "    stats_rolled = np.zeros(16)\n",
    "    rolls_made = 0\n",
    "    while np.sum(stats_rolled) < len(stats_rolled):\n",
    "        stat = np.sum(np.random.randint(1,7,3))\n",
    "        stats_rolled[stat-3] = 1\n",
    "        rolls_made += 1\n",
    "    return rolls_made\n",
    "\n",
    "def rolls_to_all_digits():\n",
    "    '''simulate rolling 3d6 until every digit 0-9 happens in an outcome'''\n",
    "    digits_seen = np.zeros(10)\n",
    "    digits_seen[1] = 1 #safe assumption because we can never see a 2 except as 12\n",
    "    rolls_made = 0\n",
    "    while np.sum(digits_seen) < len(digits_seen):\n",
    "        stat = np.sum(np.random.randint(1,7,3))\n",
    "        digits_seen[stat % 10] = 1\n",
    "        rolls_made += 1\n",
    "    return rolls_made\n",
    "        "
   ]
  },
  {
   "cell_type": "code",
   "execution_count": 25,
   "metadata": {},
   "outputs": [],
   "source": [
    "distribution = np.array([rolls_to_variety() for i in range(10000)])"
   ]
  },
  {
   "cell_type": "code",
   "execution_count": 28,
   "metadata": {},
   "outputs": [
    {
     "name": "stdout",
     "output_type": "stream",
     "text": [
      "335.9732\n"
     ]
    },
    {
     "data": {
      "image/png": "[encoded data removed]",
      "text/plain": [
       "<Figure size 432x288 with 1 Axes>"
      ]
     },
     "metadata": {
      "needs_background": "light"
     },
     "output_type": "display_data"
    }
   ],
   "source": [
    "plt.hist(distribution, 20)\n",
    "print(np.mean(distribution))"
   ]
  },
  {
   "cell_type": "code",
   "execution_count": 31,
   "metadata": {},
   "outputs": [],
   "source": [
    "digits_dist = np.array([rolls_to_all_digits() for i in range(1000)])"
   ]
  },
  {
   "cell_type": "code",
   "execution_count": 32,
   "metadata": {},
   "outputs": [
    {
     "name": "stdout",
     "output_type": "stream",
     "text": [
      "Mean: 30.209\n",
      "Mean 90% Confidence Interval: 0.7533933017159098\n"
     ]
    },
    {
     "data": {
      "image/png": "[encoded data removed]",
      "text/plain": [
       "<Figure size 432x288 with 1 Axes>"
      ]
     },
     "metadata": {
      "needs_background": "light"
     },
     "output_type": "display_data"
    }
   ],
   "source": [
    "plt.hist(digits_dist, 20)\n",
    "print(\"Mean: \" + str(np.mean(digits_dist)))\n",
    "print(\"Mean 90% Confidence Interval: \" + str(1.96*np.std(digits_dist)/np.sqrt(len(digits_dist))))"
   ]
  },
  {
   "cell_type": "code",
   "execution_count": null,
   "metadata": {},
   "outputs": [],
   "source": []
  }
 ],
 "metadata": {
  "kernelspec": {
   "display_name": "Python 3",
   "language": "python",
   "name": "python3"
  },
  "language_info": {
   "codemirror_mode": {
    "name": "ipython",
    "version": 3
   },
   "file_extension": ".py",
   "mimetype": "text/x-python",
   "name": "python",
   "nbconvert_exporter": "python",
   "pygments_lexer": "ipython3",
   "version": "3.5.6"
  }
 },
 "nbformat": 4,
 "nbformat_minor": 2
}
