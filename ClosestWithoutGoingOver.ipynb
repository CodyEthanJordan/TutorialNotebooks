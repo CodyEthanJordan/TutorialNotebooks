{
 "cells": [
  {
   "cell_type": "code",
   "execution_count": 1,
   "metadata": {},
   "outputs": [],
   "source": [
    "import numpy as np\n",
    "import itertools"
   ]
  },
  {
   "cell_type": "code",
   "execution_count": 2,
   "metadata": {},
   "outputs": [],
   "source": [
    "alphabet = \"1234567890^*/+-.\"\n"
   ]
  },
  {
   "cell_type": "code",
   "execution_count": 3,
   "metadata": {},
   "outputs": [],
   "source": [
    "def try_eval(characters):\n",
    "    string = ''.join(characters)\n",
    "    string = string.replace('^', '**')\n",
    "    try:\n",
    "        x = eval(string)\n",
    "        return float(x)\n",
    "    except:\n",
    "        return np.inf\n",
    "    "
   ]
  },
  {
   "cell_type": "code",
   "execution_count": 6,
   "metadata": {},
   "outputs": [
    {
     "name": "stdout",
     "output_type": "stream",
     "text": [
      "('.9999', 0.9999)\n"
     ]
    }
   ],
   "source": [
    "n = 5\n",
    "all_str = itertools.product(alphabet,repeat=n)\n",
    "outcome  = {''.join(k):try_eval(k) for k in all_str}\n",
    "names = ['string','outcome']\n",
    "formats = ['object','float64']\n",
    "dtype = dict(names = names, formats=formats)\n",
    "results = np.array(list(outcome.items()), dtype=dtype)\n",
    "potentials = results[results['outcome'] < 1]\n",
    "w = np.argmax(potentials['outcome'])\n",
    "#print(potentials)\n",
    "print(potentials[w])"
   ]
  },
  {
   "cell_type": "code",
   "execution_count": 7,
   "metadata": {},
   "outputs": [
    {
     "data": {
      "text/plain": [
       "array([('.9999',  9.99900000e-01), ('.9998',  9.99800000e-01),\n",
       "       ('.9997',  9.99700000e-01), ..., ('-9^97', -3.64353894e+92),\n",
       "       ('-9^98', -3.27918505e+93), ('-9^99', -2.95126654e+94)],\n",
       "      dtype=[('string', 'O'), ('outcome', '<f8')])"
      ]
     },
     "execution_count": 7,
     "metadata": {},
     "output_type": "execute_result"
    }
   ],
   "source": [
    "arg = np.argsort(potentials['outcome'])\n",
    "potentials[arg[::-1]]"
   ]
  },
  {
   "cell_type": "code",
   "execution_count": 65,
   "metadata": {},
   "outputs": [
    {
     "data": {
      "text/plain": [
       "array([     0, 297927, 297928, ..., 601232, 601233, 559131], dtype=int64)"
      ]
     },
     "execution_count": 65,
     "metadata": {},
     "output_type": "execute_result"
    }
   ],
   "source": [
    "arg"
   ]
  },
  {
   "cell_type": "code",
   "execution_count": 1,
   "metadata": {},
   "outputs": [
    {
     "data": {
      "text/plain": [
       "0.9999999974188252"
      ]
     },
     "execution_count": 1,
     "metadata": {},
     "output_type": "execute_result"
    }
   ],
   "source": [
    "1-1/9**9"
   ]
  },
  {
   "cell_type": "code",
   "execution_count": null,
   "metadata": {},
   "outputs": [],
   "source": []
  }
 ],
 "metadata": {
  "kernelspec": {
   "display_name": "Python 3",
   "language": "python",
   "name": "python3"
  },
  "language_info": {
   "codemirror_mode": {
    "name": "ipython",
    "version": 3
   },
   "file_extension": ".py",
   "mimetype": "text/x-python",
   "name": "python",
   "nbconvert_exporter": "python",
   "pygments_lexer": "ipython3",
   "version": "3.7.0"
  }
 },
 "nbformat": 4,
 "nbformat_minor": 2
}
