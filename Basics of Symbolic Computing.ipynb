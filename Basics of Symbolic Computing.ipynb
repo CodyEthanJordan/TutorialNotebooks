{
 "cells": [
  {
   "cell_type": "markdown",
   "metadata": {},
   "source": [
    "# Basics of Symbolic Computing\n",
    "\n",
    "An interactive version of this notebook can be [found on Binder](https://mybinder.org/v2/gh/CodyEthanJordan/TutorialNotebooks/master), and the original is hosted under [my TutorialNotebooks github](https://github.com/CodyEthanJordan/TutorialNotebooks/blob/master/Basics%20of%20Symbolic%20Computing.ipynb)."
   ]
  },
  {
   "cell_type": "code",
   "execution_count": 8,
   "metadata": {
    "collapsed": true
   },
   "outputs": [],
   "source": [
    "%matplotlib inline\n",
    "\n",
    "import numpy as np\n",
    "import matplotlib.pyplot as plt\n",
    "import sympy as sym\n",
    "# https://stackoverflow.com/questions/20979993/how-to-pretty-print-in-ipython-notebook-via-sympy\n",
    "from IPython.display import display\n",
    "\n",
    "sym.init_printing() #used so that sympy can format equations in a nice way"
   ]
  },
  {
   "cell_type": "markdown",
   "metadata": {},
   "source": [
    "## Solving Basic Equations\n",
    "\n",
    "Consider the Ideal Gas Law as an example $PV=nRT$, how can we use SymPy to solve this?\n",
    "\n",
    "Overall first we can create an equation with SymPy, and then use the [solve](https://docs.sympy.org/latest/modules/solvers/solvers.html) function to get what we want.\n",
    "\n",
    "[Python for Undergraduate Engineers](https://pythonforundergradengineers.com/sympy-expressions-and-equations.html) has some good examples on this. Also take a look at the [SymPy gotchas](https://docs.sympy.org/latest/gotchas.html) for what to keep in mind when using symbolic computation, have to be somewhat careful about variables."
   ]
  },
  {
   "cell_type": "code",
   "execution_count": 15,
   "metadata": {},
   "outputs": [
    {
     "data": {
      "image/png": "[encoded data removed]",
      "text/latex": [
       "$$P V = R T n$$"
      ],
      "text/plain": [
       "P⋅V = R⋅T⋅n"
      ]
     },
     "metadata": {},
     "output_type": "display_data"
    },
    {
     "data": {
      "image/png": "[encoded data removed]",
      "text/latex": [
       "$$\\frac{P V}{R n}$$"
      ],
      "text/plain": [
       "P⋅V\n",
       "───\n",
       "R⋅n"
      ]
     },
     "metadata": {},
     "output_type": "display_data"
    },
    {
     "data": {
      "image/png": "[encoded data removed]",
      "text/latex": [
       "$$0.0240544710085452$$"
      ],
      "text/plain": [
       "0.0240544710085452"
      ]
     },
     "execution_count": 15,
     "metadata": {},
     "output_type": "execute_result"
    }
   ],
   "source": [
    "P, V, n, R, T = sym.symbols('P V n R T')\n",
    "R_SIUnits = 8.31446261815324\n",
    "IdealGas = sym.Eq(P*V, n*R*T)\n",
    "display(IdealGas)\n",
    "\n",
    "display(sym.solve(IdealGas, T)[0])\n",
    "sym.solve(IdealGas, T)[0].subs(P, 1).subs(V, 2).subs(R, R_SIUnits).subs(n, 10).evalf()"
   ]
  },
  {
   "cell_type": "markdown",
   "metadata": {},
   "source": [
    "## Doing Calculus\n",
    "\n",
    "Solving basic algebraic equations isn't too difficult unless they are very large, but what about integrals and derivatives. [SymPy Gamma](https://gamma.sympy.org/input/?i=integrate+x) is a version of SymPy hosted online, which also provides step by step explainations for how to do integrals. [Wolfram Alpha](https://www.wolframalpha.com/) is very similar, and maybe a bit better, but not free.\n",
    "\n",
    "We can also [do the integration directly in python](https://docs.sympy.org/latest/tutorial/calculus.html#integrals). Some advantages are\n",
    "- being able to keep what you've done as a variable to use later\n",
    "- easily create plots and graphs with Matplotlib\n",
    "- runs pretty fast, simple to change variables or automate\n",
    "- can be part of a bigger project\n",
    "- straightfoward to export as LaTeX\n",
    "\n",
    "Lets look at doing basic integrals, and then how to [find the volume of a solid of rotation](http://tutorial.math.lamar.edu/Classes/CalcI/VolumeWithRings.aspx)\n",
    "\n",
    "What volume does $sin(x)$ from $0$ to $\\pi$ have when rotated about the x-axis?\n"
   ]
  },
  {
   "cell_type": "code",
   "execution_count": 23,
   "metadata": {},
   "outputs": [
    {
     "data": {
      "image/png": "[encoded data removed]",
      "text/latex": [
       "$$x^{2} - 3 x + e^{- x}$$"
      ],
      "text/plain": [
       " 2          -x\n",
       "x  - 3⋅x + ℯ  "
      ]
     },
     "metadata": {},
     "output_type": "display_data"
    },
    {
     "data": {
      "image/png": "[encoded data removed]",
      "text/latex": [
       "$$\\frac{x^{3}}{3} - \\frac{3 x^{2}}{2} - e^{- x}$$"
      ],
      "text/plain": [
       " 3      2      \n",
       "x    3⋅x     -x\n",
       "── - ──── - ℯ  \n",
       "3     2        "
      ]
     },
     "metadata": {},
     "output_type": "display_data"
    }
   ],
   "source": [
    "x = sym.symbols('x')\n",
    "f = x**2 - 3*x + sym.exp(-x)\n",
    "display(f)\n",
    "int_f = sym.integrate(f, x)\n",
    "display(int_f)"
   ]
  },
  {
   "cell_type": "code",
   "execution_count": 30,
   "metadata": {},
   "outputs": [
    {
     "data": {
      "image/png": "[encoded data removed]",
      "text/latex": [
       "$$\\sin{\\left (x \\right )}$$"
      ],
      "text/plain": [
       "sin(x)"
      ]
     },
     "metadata": {},
     "output_type": "display_data"
    },
    {
     "name": "stdout",
     "output_type": "stream",
     "text": [
      "Volume is\n"
     ]
    },
    {
     "data": {
      "image/png": "[encoded data removed]",
      "text/latex": [
       "$$\\frac{\\pi^{2}}{2}$$"
      ],
      "text/plain": [
       " 2\n",
       "π \n",
       "──\n",
       "2 "
      ]
     },
     "metadata": {},
     "output_type": "display_data"
    }
   ],
   "source": [
    "x = sym.symbols('x')\n",
    "f = sym.sin(x)\n",
    "display(f)\n",
    "bounds = [0, sym.pi]\n",
    "\n",
    "#volume = sym.integrate(sym.pi * f**2, (x, 0, sym.pi))\n",
    "#expanding arguments, see https://stackoverflow.com/questions/3394835/use-of-args-and-kwargs\n",
    "volume = sym.integrate(sym.pi * f**2, (x, *bounds))\n",
    "print(\"Volume is\")\n",
    "display(volume)"
   ]
  },
  {
   "cell_type": "markdown",
   "metadata": {},
   "source": [
    "## Making it Fancy\n",
    "\n",
    "Computing eigenvectors is important (but boring for a big matrix), that's why computers were invented.\n",
    "\n",
    "$\\left[\\begin{matrix}1 & 2 & 1\\\\6 & -1 & 0\\\\-1 & -2 & -1\\end{matrix}\\right]$\n",
    "\n",
    "Once we have the eigenvectors we can also [put it in LaTeX](https://docs.sympy.org/latest/tutorial/printing.html) and use that to make fancy looking [homework on Overleaft](https://www.overleaf.com/gallery/tagged/homework)."
   ]
  },
  {
   "cell_type": "code",
   "execution_count": 35,
   "metadata": {},
   "outputs": [
    {
     "data": {
      "image/png": "[encoded data removed]",
      "text/latex": [
       "$$\\left[\\begin{matrix}1 & 2 & 1\\\\6 & -1 & 0\\\\-1 & -2 & -1\\end{matrix}\\right]$$"
      ],
      "text/plain": [
       "⎡1   2   1 ⎤\n",
       "⎢          ⎥\n",
       "⎢6   -1  0 ⎥\n",
       "⎢          ⎥\n",
       "⎣-1  -2  -1⎦"
      ]
     },
     "metadata": {},
     "output_type": "display_data"
    },
    {
     "name": "stdout",
     "output_type": "stream",
     "text": [
      "\\left[\\begin{matrix}1 & 2 & 1\\\\6 & -1 & 0\\\\-1 & -2 & -1\\end{matrix}\\right]\n"
     ]
    },
    {
     "data": {
      "image/png": "[encoded data removed]",
      "text/latex": [
       "$$\\left [ \\left ( -4, \\quad 1, \\quad \\left [ \\left[\\begin{matrix}-1\\\\2\\\\1\\end{matrix}\\right]\\right ]\\right ), \\quad \\left ( 0, \\quad 1, \\quad \\left [ \\left[\\begin{matrix}- \\frac{1}{13}\\\\- \\frac{6}{13}\\\\1\\end{matrix}\\right]\\right ]\\right ), \\quad \\left ( 3, \\quad 1, \\quad \\left [ \\left[\\begin{matrix}-1\\\\- \\frac{3}{2}\\\\1\\end{matrix}\\right]\\right ]\\right )\\right ]$$"
      ],
      "text/plain": [
       "⎡⎛-4, 1, ⎡⎡-1⎤⎤⎞, ⎛0, 1, ⎡⎡-1/13⎤⎤⎞, ⎛3, 1, ⎡⎡ -1 ⎤⎤⎞⎤\n",
       "⎢⎜       ⎢⎢  ⎥⎥⎟  ⎜      ⎢⎢     ⎥⎥⎟  ⎜      ⎢⎢    ⎥⎥⎟⎥\n",
       "⎢⎜       ⎢⎢2 ⎥⎥⎟  ⎜      ⎢⎢-6/13⎥⎥⎟  ⎜      ⎢⎢-3/2⎥⎥⎟⎥\n",
       "⎢⎜       ⎢⎢  ⎥⎥⎟  ⎜      ⎢⎢     ⎥⎥⎟  ⎜      ⎢⎢    ⎥⎥⎟⎥\n",
       "⎣⎝       ⎣⎣1 ⎦⎦⎠  ⎝      ⎣⎣  1  ⎦⎦⎠  ⎝      ⎣⎣ 1  ⎦⎦⎠⎦"
      ]
     },
     "execution_count": 35,
     "metadata": {},
     "output_type": "execute_result"
    }
   ],
   "source": [
    "A = sym.Matrix([\n",
    "    [1,2,1],\n",
    "    [6,-1,0],\n",
    "    [-1,-2,-1]])\n",
    "display(A)\n",
    "print(sym.latex(A))\n",
    "\n",
    "A.eigenvects()"
   ]
  },
  {
   "cell_type": "markdown",
   "metadata": {},
   "source": [
    "## Putting it Together\n",
    "\n",
    "range"
   ]
  },
  {
   "cell_type": "code",
   "execution_count": 51,
   "metadata": {},
   "outputs": [
    {
     "data": {
      "image/png": "[encoded data removed]",
      "text/latex": [
       "$$\\frac{a t^{2}}{2} + t v_{y0} + y_{0}$$"
      ],
      "text/plain": [
       "   2                \n",
       "a⋅t                 \n",
       "──── + t⋅v_{y0} + y₀\n",
       " 2                  "
      ]
     },
     "metadata": {},
     "output_type": "display_data"
    },
    {
     "data": {
      "image/png": "[encoded data removed]",
      "text/latex": [
       "$$\\left [ \\frac{1}{a} \\left(- v_{0} \\sin{\\left (\\theta \\right )} + \\sqrt{- 2 a y_{0} + v_{0}^{2} \\sin^{2}{\\left (\\theta \\right )}}\\right), \\quad - \\frac{1}{a} \\left(v_{0} \\sin{\\left (\\theta \\right )} + \\sqrt{- 2 a y_{0} + v_{0}^{2} \\sin^{2}{\\left (\\theta \\right )}}\\right)\\right ]$$"
      ],
      "text/plain": [
       "⎡                _______________________   ⎛               ___________________\n",
       "⎢               ╱             2    2       ⎜              ╱             2    2\n",
       "⎢-v₀⋅sin(θ) + ╲╱  -2⋅a⋅y₀ + v₀ ⋅sin (θ)   -⎝v₀⋅sin(θ) + ╲╱  -2⋅a⋅y₀ + v₀ ⋅sin \n",
       "⎢───────────────────────────────────────, ────────────────────────────────────\n",
       "⎣                   a                                         a               \n",
       "\n",
       "____⎞ ⎤\n",
       "    ⎟ ⎥\n",
       "(θ) ⎠ ⎥\n",
       "──────⎥\n",
       "      ⎦"
      ]
     },
     "metadata": {},
     "output_type": "display_data"
    },
    {
     "data": {
      "image/png": "[encoded data removed]",
      "text/latex": [
       "$$x_{0} - \\frac{v_{0}}{a} \\left(v_{0} \\sin{\\left (\\theta \\right )} + \\sqrt{- 2 a y_{0} + v_{0}^{2} \\sin^{2}{\\left (\\theta \\right )}}\\right) \\cos{\\left (\\theta \\right )}$$"
      ],
      "text/plain": [
       "        ⎛               _______________________⎞       \n",
       "        ⎜              ╱             2    2    ⎟       \n",
       "     v₀⋅⎝v₀⋅sin(θ) + ╲╱  -2⋅a⋅y₀ + v₀ ⋅sin (θ) ⎠⋅cos(θ)\n",
       "x₀ - ──────────────────────────────────────────────────\n",
       "                             a                         "
      ]
     },
     "metadata": {},
     "output_type": "display_data"
    },
    {
     "data": {
      "image/png": "[encoded data removed]",
      "text/latex": [
       "$$2.55102040816326$$"
      ],
      "text/plain": [
       "2.55102040816326"
      ]
     },
     "execution_count": 51,
     "metadata": {},
     "output_type": "execute_result"
    }
   ],
   "source": [
    "a, t, theta = sym.symbols('a t theta')\n",
    "vy0, vx0, v0, y0, x0 = sym.symbols('v_{y0} v_{x0} v_0 y_0 x_0')\n",
    "y = sym.Rational(1,2)*a*t**2 + vy0*t + y0\n",
    "display(y)\n",
    "\n",
    "x= vx0*t + x0\n",
    "\n",
    "total_time = sym.solve(y.subs(vy0, v0*sym.sin(theta)) , t)\n",
    "display(total_time)\n",
    "\n",
    "total_time[1].subs(y0, 0).subs(theta, sym.pi/4).subs(v0, 5).subs(a, -9.8).evalf()\n",
    "\n",
    "total_distance = x.subs(vx0, v0*sym.cos(theta)).subs(t, total_time[1])\n",
    "display(total_distance)\n",
    "\n",
    "total_distance.subs(y0, 0).subs(theta, sym.pi/4).subs(v0, 5).subs(a, -9.8).subs(x0, 0).evalf()"
   ]
  },
  {
   "cell_type": "code",
   "execution_count": 57,
   "metadata": {},
   "outputs": [
    {
     "data": {
      "image/png": "[encoded data removed]",
      "text/latex": [
       "$$- 0.102040816326531 v_{0} \\left(v_{0} \\sin{\\left (\\theta \\right )} + \\sqrt{v_{0}^{2} \\sin^{2}{\\left (\\theta \\right )}}\\right) \\sin{\\left (\\theta \\right )} + 0.102040816326531 v_{0} \\left(v_{0} \\cos{\\left (\\theta \\right )} + \\frac{\\sqrt{v_{0}^{2} \\sin^{2}{\\left (\\theta \\right )}}}{\\sin{\\left (\\theta \\right )}} \\cos{\\left (\\theta \\right )}\\right) \\cos{\\left (\\theta \\right )}$$"
      ],
      "text/plain": [
       "                                                                              \n",
       "                       ⎛               _____________⎞                         \n",
       "                       ⎜              ╱   2    2    ⎟                         \n",
       "- 0.102040816326531⋅v₀⋅⎝v₀⋅sin(θ) + ╲╱  v₀ ⋅sin (θ) ⎠⋅sin(θ) + 0.1020408163265\n",
       "                                                                              \n",
       "\n",
       "      ⎛               _____________       ⎞       \n",
       "      ⎜              ╱   2    2           ⎟       \n",
       "      ⎜            ╲╱  v₀ ⋅sin (θ) ⋅cos(θ)⎟       \n",
       "31⋅v₀⋅⎜v₀⋅cos(θ) + ───────────────────────⎟⋅cos(θ)\n",
       "      ⎝                     sin(θ)        ⎠       "
      ]
     },
     "execution_count": 57,
     "metadata": {},
     "output_type": "execute_result"
    }
   ],
   "source": [
    "f = sym.diff(total_distance.subs(a, -9.8).subs(y0, 0).subs(x0, 0), theta)"
   ]
  },
  {
   "cell_type": "code",
   "execution_count": 58,
   "metadata": {},
   "outputs": [
    {
     "data": {
      "image/png": "[encoded data removed]",
      "text/latex": [
       "$$\\left [ 0, \\quad \\pi\\right ]$$"
      ],
      "text/plain": [
       "[0, π]"
      ]
     },
     "execution_count": 58,
     "metadata": {},
     "output_type": "execute_result"
    }
   ],
   "source": [
    "sym.solve(f)"
   ]
  },
  {
   "cell_type": "code",
   "execution_count": null,
   "metadata": {
    "collapsed": true
   },
   "outputs": [],
   "source": []
  }
 ],
 "metadata": {
  "kernelspec": {
   "display_name": "Python 3",
   "language": "python",
   "name": "python3"
  },
  "language_info": {
   "codemirror_mode": {
    "name": "ipython",
    "version": 3
   },
   "file_extension": ".py",
   "mimetype": "text/x-python",
   "name": "python",
   "nbconvert_exporter": "python",
   "pygments_lexer": "ipython3",
   "version": "3.6.1"
  }
 },
 "nbformat": 4,
 "nbformat_minor": 2
}
