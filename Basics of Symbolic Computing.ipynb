{
 "cells": [
  {
   "cell_type": "code",
   "execution_count": 8,
   "metadata": {
    "collapsed": true
   },
   "outputs": [],
   "source": [
    "%matplotlib inline\n",
    "\n",
    "import numpy as np\n",
    "import matplotlib.pyplot as plt\n",
    "import sympy as sym\n",
    "# https://stackoverflow.com/questions/20979993/how-to-pretty-print-in-ipython-notebook-via-sympy\n",
    "from IPython.display import display\n",
    "\n",
    "sym.init_printing() #used so that sympy can format equations in a nice way"
   ]
  },
  {
   "cell_type": "markdown",
   "metadata": {},
   "source": [
    "## Solving Basic Equations\n",
    "\n",
    "Consider the Ideal Gas Law as an example $PV=nRT$, how can we use SymPy to solve this?\n",
    "\n",
    "Overall first we can create an equation with SymPy, and then use the [solve](https://docs.sympy.org/latest/modules/solvers/solvers.html) function to get what we want.\n",
    "\n",
    "[Python for Undergraduate Engineers](https://pythonforundergradengineers.com/sympy-expressions-and-equations.html) has some good examples on this. Also take a look at the [SymPy gotchas](https://docs.sympy.org/latest/gotchas.html) for what to keep in mind when using symbolic computation, have to be somewhat careful about variables."
   ]
  },
  {
   "cell_type": "code",
   "execution_count": 15,
   "metadata": {},
   "outputs": [
    {
     "data": {
      "image/png": "[encoded data removed]",
      "text/latex": [
       "$$P V = R T n$$"
      ],
      "text/plain": [
       "P⋅V = R⋅T⋅n"
      ]
     },
     "metadata": {},
     "output_type": "display_data"
    },
    {
     "data": {
      "image/png": "[encoded data removed]",
      "text/latex": [
       "$$\\frac{P V}{R n}$$"
      ],
      "text/plain": [
       "P⋅V\n",
       "───\n",
       "R⋅n"
      ]
     },
     "metadata": {},
     "output_type": "display_data"
    },
    {
     "data": {
      "image/png": "[encoded data removed]",
      "text/latex": [
       "$$0.0240544710085452$$"
      ],
      "text/plain": [
       "0.0240544710085452"
      ]
     },
     "execution_count": 15,
     "metadata": {},
     "output_type": "execute_result"
    }
   ],
   "source": [
    "P, V, n, R, T = sym.symbols('P V n R T')\n",
    "R_SIUnits = 8.31446261815324\n",
    "IdealGas = sym.Eq(P*V, n*R*T)\n",
    "display(IdealGas)\n",
    "\n",
    "display(sym.solve(IdealGas, T)[0])\n",
    "sym.solve(IdealGas, T)[0].subs(P, 1).subs(V, 2).subs(R, R_SIUnits).subs(n, 10).evalf()"
   ]
  },
  {
   "cell_type": "markdown",
   "metadata": {},
   "source": [
    "## Doing Calculus\n",
    "\n",
    "Solving basic algebraic equations isn't too difficult unless they are very large, but what about integrals and derivatives. [SymPy Gamma](https://gamma.sympy.org/input/?i=integrate+x) is a version of SymPy hosted online, which also provides step by step explainations for how to do integrals. [Wolfram Alpha](https://www.wolframalpha.com/) is very similar, and maybe a bit better, but not free.\n",
    "\n",
    "We can also [do the integration directly in python](https://docs.sympy.org/latest/tutorial/calculus.html#integrals). Some advantages are\n",
    "- being able to keep what you've done as a variable to use later\n",
    "- easily create plots and graphs with Matplotlib\n",
    "- runs pretty fast, simple to change variables or automate\n",
    "- can be part of a bigger project\n",
    "- straightfoward to export as LaTeX\n",
    "\n",
    "Lets look at doing basic integrals, and then how to [find the volume of a solid of rotation](http://tutorial.math.lamar.edu/Classes/CalcI/VolumeWithRings.aspx)\n",
    "\n",
    "What volume does $sin(x)$ from $0$ to $\\pi$ have when rotated about the x-axis?\n"
   ]
  },
  {
   "cell_type": "code",
   "execution_count": 23,
   "metadata": {},
   "outputs": [
    {
     "data": {
      "image/png": "[encoded data removed]",
      "text/latex": [
       "$$x^{2} - 3 x + e^{- x}$$"
      ],
      "text/plain": [
       " 2          -x\n",
       "x  - 3⋅x + ℯ  "
      ]
     },
     "metadata": {},
     "output_type": "display_data"
    },
    {
     "data": {
      "image/png": "[encoded data removed]",
      "text/latex": [
       "$$\\frac{x^{3}}{3} - \\frac{3 x^{2}}{2} - e^{- x}$$"
      ],
      "text/plain": [
       " 3      2      \n",
       "x    3⋅x     -x\n",
       "── - ──── - ℯ  \n",
       "3     2        "
      ]
     },
     "metadata": {},
     "output_type": "display_data"
    }
   ],
   "source": [
    "x = sym.symbols('x')\n",
    "f = x**2 - 3*x + sym.exp(-x)\n",
    "display(f)\n",
    "int_f = sym.integrate(f, x)\n",
    "display(int_f)"
   ]
  },
  {
   "cell_type": "code",
   "execution_count": 30,
   "metadata": {},
   "outputs": [
    {
     "data": {
      "image/png": "[encoded data removed]",
      "text/latex": [
       "$$\\sin{\\left (x \\right )}$$"
      ],
      "text/plain": [
       "sin(x)"
      ]
     },
     "metadata": {},
     "output_type": "display_data"
    },
    {
     "name": "stdout",
     "output_type": "stream",
     "text": [
      "Volume is\n"
     ]
    },
    {
     "data": {
      "image/png": "[encoded data removed]",
      "text/latex": [
       "$$\\frac{\\pi^{2}}{2}$$"
      ],
      "text/plain": [
       " 2\n",
       "π \n",
       "──\n",
       "2 "
      ]
     },
     "metadata": {},
     "output_type": "display_data"
    }
   ],
   "source": [
    "x = sym.symbols('x')\n",
    "f = sym.sin(x)\n",
    "display(f)\n",
    "bounds = [0, sym.pi]\n",
    "\n",
    "#volume = sym.integrate(sym.pi * f**2, (x, 0, sym.pi))\n",
    "#expanding arguments, see https://stackoverflow.com/questions/3394835/use-of-args-and-kwargs\n",
    "volume = sym.integrate(sym.pi * f**2, (x, *bounds))\n",
    "print(\"Volume is\")\n",
    "display(volume)"
   ]
  },
  {
   "cell_type": "markdown",
   "metadata": {},
   "source": [
    "## Making it Fancy\n",
    "\n",
    "LaTeX"
   ]
  },
  {
   "cell_type": "code",
   "execution_count": null,
   "metadata": {
    "collapsed": true
   },
   "outputs": [],
   "source": []
  },
  {
   "cell_type": "code",
   "execution_count": null,
   "metadata": {
    "collapsed": true
   },
   "outputs": [],
   "source": []
  }
 ],
 "metadata": {
  "kernelspec": {
   "display_name": "Python 3",
   "language": "python",
   "name": "python3"
  },
  "language_info": {
   "codemirror_mode": {
    "name": "ipython",
    "version": 3
   },
   "file_extension": ".py",
   "mimetype": "text/x-python",
   "name": "python",
   "nbconvert_exporter": "python",
   "pygments_lexer": "ipython3",
   "version": "3.6.1"
  }
 },
 "nbformat": 4,
 "nbformat_minor": 2
}
